{
 "cells": [
  {
   "cell_type": "markdown",
   "metadata": {},
   "source": [
    "# generating dataset of triples\n",
    "\n",
    "The purpose of this notebook is to generate triplets to create a dataset for\n",
    "training. It should contain a fairly large number of examples. Let's create 3\n",
    "dataset with 100k, 1m, and 10m rows. We'll train the unsupervised model against\n",
    "all three of these.\n",
    "\n",
    "We're going to be clever about how we sample from the motif dataset. We utilize\n",
    "the sampling method referenced in tile2vec. Neighbors are drawn from both within\n",
    "the same audio sample and within a species. The distant neighbor is drawn from\n",
    "from the entire dataset, using both a random motif, and an entirely random\n",
    "sample from across the dataset."
   ]
  },
  {
   "cell_type": "code",
   "execution_count": 1,
   "metadata": {},
   "outputs": [],
   "source": [
    "%load_ext autoreload\n",
    "%autoreload 2\n",
    "%load_ext lab_black"
   ]
  },
  {
   "cell_type": "code",
   "execution_count": 9,
   "metadata": {},
   "outputs": [
    {
     "name": "stdout",
     "output_type": "stream",
     "text": [
      "+--------------------+----------------+---------------------+-------+-------+-----------+-------------+----------------+----------------+\n",
      "|         source_name|cens_sample_rate|matrix_profile_window|motif_0|motif_1|sample_rate|duration_cens|duration_samples|duration_seconds|\n",
      "+--------------------+----------------+---------------------+-------+-------+-----------+-------------+----------------+----------------+\n",
      "|train_audio/comsa...|              10|                   50|  331.0|  386.0|      22050|          642|         1396030|           63.31|\n",
      "|train_audio/mitpa...|              10|                   50|  109.0|  135.0|      22050|          227|          493056|           22.36|\n",
      "|train_audio/gadwa...|              10|                   50|   79.0|   38.0|      22050|          596|         1294848|           58.72|\n",
      "|train_audio/bkbpl...|              10|                   50|    0.0|    0.0|      22050|           64|          138240|            6.27|\n",
      "|train_audio/gnwte...|              10|                   50|  770.0|  796.0|      22050|         1011|         2199157|           99.74|\n",
      "|train_audio/rinph...|              10|                   50|    0.0|    0.0|      22050|           53|          114049|            5.17|\n",
      "|train_audio/lesye...|              10|                   50|  118.0|   33.0|      22050|          168|          365184|           16.56|\n",
      "|train_audio/arcte...|              10|                   50|  243.0|   16.0|      22050|          295|          640332|           29.04|\n",
      "|train_audio/wesme...|              10|                   50|   94.0|  198.0|      22050|          368|          800151|           36.29|\n",
      "|train_audio/bcnhe...|              10|                   50|  174.0|   61.0|      22050|          224|          486144|           22.05|\n",
      "|train_audio/redav...|              10|                   50|   99.0|   60.0|      22050|          283|          615725|           27.92|\n",
      "|train_audio/bknst...|              10|                   50|  144.0|  170.0|      22050|          226|          490752|           22.26|\n",
      "|train_audio/comsa...|              10|                   50|    0.0|    0.0|      22050|           72|          156666|            7.11|\n",
      "|train_audio/gnwte...|              10|                   50|    0.0|   25.0|      22050|          256|          555837|           25.21|\n",
      "|train_audio/nutma...|              10|                   50|  251.0|  291.0|      22050|          389|          845568|           38.35|\n",
      "|train_audio/spodo...|              10|                   50|   82.0|  302.0|      22050|          583|         1268352|           57.52|\n",
      "|train_audio/comwa...|              10|                   50|   68.0|   12.0|      22050|          196|          425080|           19.28|\n",
      "|train_audio/gnwte...|              10|                   50|   64.0|    0.0|      22050|          248|          537985|            24.4|\n",
      "|train_audio/lobdo...|              10|                   50|   46.0|    4.0|      22050|          152|          330221|           14.98|\n",
      "|train_audio/japqu...|              10|                   50|   null|   null|      22050|           36|           76608|            3.47|\n",
      "+--------------------+----------------+---------------------+-------+-------+-----------+-------------+----------------+----------------+\n",
      "only showing top 20 rows\n",
      "\n"
     ]
    }
   ],
   "source": [
    "from pyspark.sql import SparkSession, functions as F\n",
    "import os\n",
    "import sys\n",
    "\n",
    "os.environ[\"PYSPARK_PYTHON\"] = sys.executable\n",
    "os.environ[\"PYSPARK_DRIVER_PYTHON\"] = sys.executable\n",
    "spark = SparkSession.builder.getOrCreate()\n",
    "spark\n",
    "\n",
    "df = (\n",
    "    spark.read.parquet(\"../data/intermediate/2022-02-26-motif-consolidated.parquet\")\n",
    "    .repartition(8)\n",
    "    .cache()\n",
    ")\n",
    "df.show()"
   ]
  },
  {
   "cell_type": "code",
   "execution_count": 16,
   "metadata": {},
   "outputs": [
    {
     "name": "stdout",
     "output_type": "stream",
     "text": [
      "+--------+---------------------------------------+\n",
      "|count(1)|sum((IF((duration_seconds < 5), 1, 0)))|\n",
      "+--------+---------------------------------------+\n",
      "|   14852|                                    996|\n",
      "+--------+---------------------------------------+\n",
      "\n"
     ]
    }
   ],
   "source": [
    "df.selectExpr(\"count(*)\", \"sum(if(duration_seconds < 5, 1, 0))\").show()"
   ]
  },
  {
   "cell_type": "code",
   "execution_count": 106,
   "metadata": {},
   "outputs": [
    {
     "name": "stdout",
     "output_type": "stream",
     "text": [
      "+-----------+--------+------------+--------------------+--------------------+----------------+--------------------+-------------+---------+\n",
      "|TAXON_ORDER|CATEGORY|SPECIES_CODE|    PRIMARY_COM_NAME|            SCI_NAME|          ORDER1|              FAMILY|SPECIES_GROUP|REPORT_AS|\n",
      "+-----------+--------+------------+--------------------+--------------------+----------------+--------------------+-------------+---------+\n",
      "|          1| species|     ostric2|      Common Ostrich|    Struthio camelus|Struthioniformes|Struthionidae (Os...|    Ostriches|     null|\n",
      "|          6| species|     ostric3|      Somali Ostrich|Struthio molybdop...|Struthioniformes|Struthionidae (Os...|         null|     null|\n",
      "|          7|   slash|      y00934|Common/Somali Ost...|Struthio camelus/...|Struthioniformes|Struthionidae (Os...|         null|     null|\n",
      "|          8| species|     grerhe1|        Greater Rhea|      Rhea americana|      Rheiformes|     Rheidae (Rheas)|        Rheas|     null|\n",
      "|         14| species|     lesrhe2|         Lesser Rhea|        Rhea pennata|      Rheiformes|     Rheidae (Rheas)|         null|     null|\n",
      "|         15|    issf|     lesrhe4|  Lesser Rhea (Puna)|Rhea pennata tara...|      Rheiformes|     Rheidae (Rheas)|         null|  lesrhe2|\n",
      "|         18|    issf|     lesrhe3|Lesser Rhea (Darw...|Rhea pennata pennata|      Rheiformes|     Rheidae (Rheas)|         null|  lesrhe2|\n",
      "|         19| species|     tabtin1|Tawny-breasted Ti...|  Nothocercus julius|    Tinamiformes|Tinamidae (Tinamous)|     Tinamous|     null|\n",
      "|         20| species|     higtin1|    Highland Tinamou|Nothocercus bonap...|    Tinamiformes|Tinamidae (Tinamous)|         null|     null|\n",
      "|         21|    issf|     higtin2|Highland Tinamou ...|Nothocercus bonap...|    Tinamiformes|Tinamidae (Tinamous)|         null|  higtin1|\n",
      "|         26|    issf|     higtin3|Highland Tinamou ...|Nothocercus bonap...|    Tinamiformes|Tinamidae (Tinamous)|         null|  higtin1|\n",
      "|         27| species|     hootin1|      Hooded Tinamou|Nothocercus nigro...|    Tinamiformes|Tinamidae (Tinamous)|         null|     null|\n",
      "|         30| species|     grytin1|        Gray Tinamou|         Tinamus tao|    Tinamiformes|Tinamidae (Tinamous)|         null|     null|\n",
      "|         35| species|     soltin1|    Solitary Tinamou|  Tinamus solitarius|    Tinamiformes|Tinamidae (Tinamous)|         null|     null|\n",
      "|         36| species|     blatin1|       Black Tinamou|     Tinamus osgoodi|    Tinamiformes|Tinamidae (Tinamous)|         null|     null|\n",
      "|         39| species|     gretin1|       Great Tinamou|       Tinamus major|    Tinamiformes|Tinamidae (Tinamous)|         null|     null|\n",
      "|         52| species|     whttin1|White-throated Ti...|    Tinamus guttatus|    Tinamiformes|Tinamidae (Tinamous)|         null|     null|\n",
      "|         53|    spuh|     tinamu1|         Tinamus sp.|         Tinamus sp.|    Tinamiformes|Tinamidae (Tinamous)|         null|     null|\n",
      "|         54| species|     cintin1|   Cinereous Tinamou|Crypturellus cine...|    Tinamiformes|Tinamidae (Tinamous)|         null|     null|\n",
      "|         55| species|     bertin1| Berlepsch's Tinamou|Crypturellus berl...|    Tinamiformes|Tinamidae (Tinamous)|         null|     null|\n",
      "+-----------+--------+------------+--------------------+--------------------+----------------+--------------------+-------------+---------+\n",
      "only showing top 20 rows\n",
      "\n"
     ]
    }
   ],
   "source": [
    "taxa = spark.read.csv(\"../data/raw/birdclef-2022/eBird_Taxonomy_v2021.csv\", header=True)\n",
    "taxa.show()"
   ]
  },
  {
   "cell_type": "code",
   "execution_count": 112,
   "metadata": {},
   "outputs": [
    {
     "name": "stdout",
     "output_type": "stream",
     "text": [
      "+--------------------+-----+\n",
      "|              FAMILY|count|\n",
      "+--------------------+-----+\n",
      "|Formicariidae (An...|   17|\n",
      "|Ramphastidae (Tou...|   74|\n",
      "|Oxyruncidae (Shar...|   18|\n",
      "|Acanthizidae (Tho...|   78|\n",
      "|Phalacrocoracidae...|   60|\n",
      "|Acanthisittidae (...|    4|\n",
      "|Stenostiridae (Fa...|   11|\n",
      "|Icteridae (Troupi...|  177|\n",
      "|Neosittidae (Sitt...|    8|\n",
      "|Nicatoridae (Nica...|    4|\n",
      "|Polioptilidae (Gn...|   37|\n",
      "|    Todidae (Todies)|    6|\n",
      "|Oreoicidae (Austr...|    3|\n",
      "|Aegithinidae (Ioras)|    5|\n",
      "|    Gruidae (Cranes)|   25|\n",
      "|Pomatostomidae (P...|    6|\n",
      "|Thinocoridae (See...|    4|\n",
      "|Corvidae (Crows, ...|  205|\n",
      "|Anseranatidae (Ma...|    1|\n",
      "|Pachycephalidae (...|   85|\n",
      "+--------------------+-----+\n",
      "only showing top 20 rows\n",
      "\n"
     ]
    }
   ],
   "source": [
    "taxa.groupBy(\"FAMILY\").count().show()"
   ]
  },
  {
   "cell_type": "code",
   "execution_count": 113,
   "metadata": {},
   "outputs": [
    {
     "data": {
      "text/plain": [
       "152"
      ]
     },
     "execution_count": 113,
     "metadata": {},
     "output_type": "execute_result"
    }
   ],
   "source": [
    "df = df.withColumn(\"species\", F.split(\"source_name\", \"/\")[1])\n",
    "df.groupBy(\"species\").count().count()"
   ]
  },
  {
   "cell_type": "code",
   "execution_count": 118,
   "metadata": {},
   "outputs": [
    {
     "name": "stdout",
     "output_type": "stream",
     "text": [
      "+--------------------+-----+\n",
      "|              family|count|\n",
      "+--------------------+-----+\n",
      "|Icteridae (Troupi...|  343|\n",
      "|Accipitridae (Haw...|   34|\n",
      "|Fregatidae (Friga...|   17|\n",
      "|Charadriidae (Plo...|  401|\n",
      "|Procellariidae (S...|   85|\n",
      "|Sulidae (Boobies ...|   80|\n",
      "|Scolopacidae (San...| 1971|\n",
      "|Hydrobatidae (Nor...|   28|\n",
      "|Scotocercidae (Bu...|   78|\n",
      "|Columbidae (Pigeo...|  494|\n",
      "|Fringillidae (Fin...|  597|\n",
      "|Phaethontidae (Tr...|   55|\n",
      "|Odontophoridae (N...|  242|\n",
      "|Alcedinidae (King...|  100|\n",
      "|Phasianidae (Phea...|  659|\n",
      "|Turdidae (Thrushe...|  125|\n",
      "|Pandionidae (Osprey)|  228|\n",
      "|Threskiornithidae...|   45|\n",
      "|Laridae (Gulls, T...|  838|\n",
      "|Stercorariidae (S...|  119|\n",
      "+--------------------+-----+\n",
      "only showing top 20 rows\n",
      "\n"
     ]
    }
   ],
   "source": [
    "df.join(\n",
    "    taxa.selectExpr(\"SPECIES_CODE as species\", \"FAMILY as family\"),\n",
    "    on=\"species\",\n",
    "    how=\"left\",\n",
    ").groupBy(\"family\").count().show()"
   ]
  },
  {
   "cell_type": "code",
   "execution_count": 103,
   "metadata": {},
   "outputs": [
    {
     "name": "stdout",
     "output_type": "stream",
     "text": [
      "+-------+-----+\n",
      "|species|count|\n",
      "+-------+-----+\n",
      "|maupar |1    |\n",
      "|crehon |2    |\n",
      "|akikik |2    |\n",
      "|layalb |3    |\n",
      "|coopet |3    |\n",
      "|shtsan |3    |\n",
      "|bkwpet |3    |\n",
      "|hawhaw |3    |\n",
      "|mauala |3    |\n",
      "|hawpet1|3    |\n",
      "+-------+-----+\n",
      "only showing top 10 rows\n",
      "\n"
     ]
    }
   ],
   "source": [
    "freq_df = df.groupby(\"species\").count().orderBy(\"count\")\n",
    "freq_df.show(truncate=False, n=10)"
   ]
  },
  {
   "cell_type": "code",
   "execution_count": 35,
   "metadata": {},
   "outputs": [
    {
     "data": {
      "image/png": "[encoded data removed]",
      "text/plain": [
       "<Figure size 432x288 with 1 Axes>"
      ]
     },
     "metadata": {
      "needs_background": "light"
     },
     "output_type": "display_data"
    }
   ],
   "source": [
    "import matplotlib.pyplot as plt\n",
    "\n",
    "pdf = freq_df.toPandas()\n",
    "plt.hist(pdf[\"count\"])\n",
    "plt.show()"
   ]
  },
  {
   "cell_type": "code",
   "execution_count": 37,
   "metadata": {},
   "outputs": [
    {
     "data": {
      "text/plain": [
       "152"
      ]
     },
     "execution_count": 37,
     "metadata": {},
     "output_type": "execute_result"
    }
   ],
   "source": [
    "df.select(\"species\").distinct().count()"
   ]
  },
  {
   "cell_type": "code",
   "execution_count": 59,
   "metadata": {},
   "outputs": [
    {
     "data": {
      "text/plain": [
       "{'brant': 0.009089684890923782,\n",
       " 'bknsti': 0.012052248855373014,\n",
       " 'compea': 0.0037032049555615404,\n",
       " 'pagplo': 0.0035685429571774845,\n",
       " 'hudgod': 0.0005386479935362241,\n",
       " 'peflov': 0.0025585779692970643,\n",
       " 'mauala': 0.00020199299757608404,\n",
       " 'elepai': 0.0009426339886883921,\n",
       " 'rempar': 0.0026259089684890925,\n",
       " 'bubsan': 0.00033665499596014,\n",
       " 'zebdov': 0.0059924589280904925,\n",
       " 'brnnod': 0.00134661998384056,\n",
       " 'cintea': 0.0010772959870724481,\n",
       " 'pibgre': 0.010907621869108538,\n",
       " 'hoomer': 0.00134661998384056,\n",
       " 'commyn': 0.014004847831941825,\n",
       " 'perfal': 0.01252356584971721,\n",
       " 'comsan': 0.033665499596014004,\n",
       " 'hawcre': 0.00134661998384056,\n",
       " 'wesmea': 0.02309453272286561,\n",
       " 'grbher3': 0.006800430918394829,\n",
       " 'calqua': 0.009022353891731753,\n",
       " 'osprey': 0.015351467815782387,\n",
       " 'norsho': 0.007137085914354969,\n",
       " 'moudov': 0.009561001885267978,\n",
       " 'kalphe': 0.0011446269862644763,\n",
       " 'hawgoo': 0.0006059789927282521,\n",
       " 'redava': 0.0024239159709130084,\n",
       " 'cangoo': 0.021411257743064908,\n",
       " 'norpin': 0.007541071909507137,\n",
       " 'hawpet1': 0.00020199299757608404,\n",
       " 'burpar': 0.00134661998384056,\n",
       " 'rettro': 0.0021545919741448962,\n",
       " 'redpha1': 0.0026259089684890925,\n",
       " 'akepa1': 0.00067330999192028,\n",
       " 'semplo': 0.005184486937786156,\n",
       " 'canvas': 0.00067330999192028,\n",
       " 'akikik': 0.00013466199838405601,\n",
       " 'coopet': 0.00020199299757608404,\n",
       " 'golphe': 0.0007406409911123081,\n",
       " 'rorpar': 0.02093994074872071,\n",
       " 'lesyel': 0.010032318879612173,\n",
       " 'refboo': 0.00269323996768112,\n",
       " 'mallar3': 0.033665499596014004,\n",
       " 'whttro': 0.0015486129814166441,\n",
       " 'incter1': 0.0005386479935362241,\n",
       " 'chemun': 0.0008079719903043361,\n",
       " 'comwax': 0.013062213843253434,\n",
       " 'reccar': 0.0028279019660651765,\n",
       " 'lcspet': 0.0008753029894963641,\n",
       " 'omao': 0.0014139509830325882,\n",
       " 'barpet': 0.0010099649878804202,\n",
       " 'bcnher': 0.03110692162671694,\n",
       " 'wessan': 0.00269323996768112,\n",
       " 'spodov': 0.007204416913546997,\n",
       " 'categr': 0.008079719903043361,\n",
       " 'lotjae': 0.0029625639644492324,\n",
       " 'eurwig': 0.022892539725289523,\n",
       " 'whiter': 0.0018852679773767843,\n",
       " 'houspa': 0.033665499596014004,\n",
       " 'wetshe': 0.0015486129814166441,\n",
       " 'hawcoo': 0.0010772959870724481,\n",
       " 'brtcur': 0.0016159439806086723,\n",
       " 'yefcan': 0.0045111769458658765,\n",
       " 'laugul': 0.005319148936170213,\n",
       " 'lessca': 0.00047131699434419606,\n",
       " 'brnowl': 0.033665499596014004,\n",
       " 'afrsil1': 0.0010772959870724481,\n",
       " 'rinphe': 0.016698087799622948,\n",
       " 'bkwpet': 0.00020199299757608404,\n",
       " 'warwhe1': 0.004780500942633989,\n",
       " 'norhar2': 0.0020872609749528685,\n",
       " 'layalb': 0.00020199299757608404,\n",
       " 'buwtea': 0.0035012119579854563,\n",
       " 'sposan': 0.008281712900619445,\n",
       " 'gadwal': 0.016092108806894694,\n",
       " 'fragul': 0.0021545919741448962,\n",
       " 'japqua': 0.002895232965257204,\n",
       " 'apapan': 0.0031645569620253164,\n",
       " 'merlin': 0.004982493940210072,\n",
       " 'leater1': 0.006665768920010773,\n",
       " 'iiwi': 0.002491246970105036,\n",
       " 'mitpar': 0.003972528952329653,\n",
       " 'gryfra': 0.0032318879612173446,\n",
       " 'norcar': 0.033665499596014004,\n",
       " 'ribgul': 0.005251817936978185,\n",
       " 'blknod': 0.0009426339886883921,\n",
       " 'leasan': 0.005655803932130353,\n",
       " 'gwfgoo': 0.018381362779423645,\n",
       " 'grefri': 0.0011446269862644763,\n",
       " 'houfin': 0.02168058173983302,\n",
       " 'hawama': 0.0014139509830325882,\n",
       " 'saffin': 0.010166980877996229,\n",
       " 'chbsan': 0.0010772959870724481,\n",
       " 'sander': 0.007810395906275249,\n",
       " 'pecsan': 0.005049824939402101,\n",
       " 'brnboo': 0.0008753029894963641,\n",
       " 'gnwtea': 0.03117425262590897,\n",
       " 'snogoo': 0.006531106921626717,\n",
       " 'sooshe': 0.0007406409911123081,\n",
       " 'sora': 0.00983032588203609,\n",
       " 'bongul': 0.0037705359547535685,\n",
       " 'chukar': 0.0026259089684890925,\n",
       " 'caster1': 0.01185025585779693,\n",
       " 'yebcar': 0.00134661998384056,\n",
       " 'amewig': 0.0034338809587934286,\n",
       " 'skylar': 0.033665499596014004,\n",
       " 'comgal1': 0.011917586856988958,\n",
       " 'arcter': 0.01319687584163749,\n",
       " 'masboo': 0.0018179369781847563,\n",
       " 'oahama': 0.0009426339886883921,\n",
       " 'blkfra': 0.0027605709668731483,\n",
       " 'lobdow': 0.005588472932938324,\n",
       " 'cacgoo1': 0.0025585779692970643,\n",
       " 'parjae': 0.004174521949905737,\n",
       " 'gamqua': 0.007271747912739025,\n",
       " 'glwgul': 0.0020199299757608404,\n",
       " 'sooter1': 0.0014812819822246162,\n",
       " 'whfibi': 0.0030298949636412605,\n",
       " 'bkbplo': 0.018246700781039592,\n",
       " 'dunlin': 0.03204955561540533,\n",
       " 'wiltur': 0.005117155938594129,\n",
       " 'rinduc': 0.0020199299757608404,\n",
       " 'redjun': 0.005049824939402101,\n",
       " 'ruff': 0.0023565849717209803,\n",
       " 'nutman': 0.005251817936978185,\n",
       " 'sheowl': 0.008618367896579585,\n",
       " 'belkin1': 0.006733099919202801,\n",
       " 'buffle': 0.0010099649878804202,\n",
       " 'rocpig': 0.01050363587395637,\n",
       " 'jabwar': 0.005251817936978185,\n",
       " 'rudtur': 0.012927551844869378,\n",
       " 'aniani': 0.0008079719903043361,\n",
       " 'normoc': 0.02605709668731484,\n",
       " 'magpet1': 0.0010772959870724481,\n",
       " 'bulpet': 0.00047131699434419606,\n",
       " 'madpet': 0.0012792889846485322,\n",
       " 'towsol': 0.006800430918394829,\n",
       " 'pomjae': 0.00047131699434419606,\n",
       " 'kauama': 0.0008079719903043361,\n",
       " 'wantat1': 0.0012792889846485322,\n",
       " 'crehon': 0.00013466199838405601,\n",
       " 'gresca': 0.0010772959870724481,\n",
       " 'sopsku1': 0.00040398599515216807,\n",
       " 'akiapo': 0.0009426339886883921,\n",
       " 'palila': 0.00047131699434419606,\n",
       " 'maupar': 6.733099919202801e-05,\n",
       " 'ercfra': 0.00040398599515216807,\n",
       " 'shtsan': 0.00020199299757608404,\n",
       " 'hawhaw': 0.00020199299757608404,\n",
       " 'puaioh': 0.00020199299757608404,\n",
       " 'akekee': 0.00040398599515216807}"
      ]
     },
     "execution_count": 59,
     "metadata": {},
     "output_type": "execute_result"
    }
   ],
   "source": [
    "total = df.count()\n",
    "freq = {r.species: r[\"count\"] / total for r in freq_df.collect()}\n",
    "freq"
   ]
  },
  {
   "cell_type": "code",
   "execution_count": 64,
   "metadata": {},
   "outputs": [
    {
     "data": {
      "text/plain": [
       "14852"
      ]
     },
     "execution_count": 64,
     "metadata": {},
     "output_type": "execute_result"
    }
   ],
   "source": [
    "df.count()"
   ]
  },
  {
   "cell_type": "code",
   "execution_count": 73,
   "metadata": {},
   "outputs": [
    {
     "name": "stdout",
     "output_type": "stream",
     "text": [
      "+-------+-----+\n",
      "|species|count|\n",
      "+-------+-----+\n",
      "|  brant|    2|\n",
      "| commyn|    3|\n",
      "| comsan|   14|\n",
      "| osprey|    5|\n",
      "| moudov|    2|\n",
      "| cangoo|   10|\n",
      "| rorpar|    5|\n",
      "| bcnher|   15|\n",
      "| eurwig|    5|\n",
      "| houspa|   19|\n",
      "+-------+-----+\n",
      "only showing top 10 rows\n",
      "\n"
     ]
    },
    {
     "data": {
      "text/plain": [
       "279"
      ]
     },
     "execution_count": 73,
     "metadata": {},
     "output_type": "execute_result"
    }
   ],
   "source": [
    "sampled = df.sampleBy(\"species\", fractions=freq)\n",
    "sampled.groupby(\"species\").count().show(n=10)\n",
    "sampled.count()"
   ]
  },
  {
   "cell_type": "code",
   "execution_count": 78,
   "metadata": {},
   "outputs": [
    {
     "data": {
      "text/plain": [
       "0.033665499596014004"
      ]
     },
     "execution_count": 78,
     "metadata": {},
     "output_type": "execute_result"
    }
   ],
   "source": [
    "max(freq.values())"
   ]
  },
  {
   "cell_type": "code",
   "execution_count": 87,
   "metadata": {},
   "outputs": [
    {
     "name": "stdout",
     "output_type": "stream",
     "text": [
      "29\n"
     ]
    }
   ],
   "source": [
    "mu = int(1 / max(freq.values()))\n",
    "print(mu)\n",
    "max_freq = {k: v * mu for k, v in freq.items()}"
   ]
  },
  {
   "cell_type": "code",
   "execution_count": 101,
   "metadata": {},
   "outputs": [
    {
     "data": {
      "text/plain": [
       "289"
      ]
     },
     "execution_count": 101,
     "metadata": {},
     "output_type": "execute_result"
    }
   ],
   "source": [
    "df.sampleBy(\"species\", fractions=freq).count()"
   ]
  },
  {
   "cell_type": "code",
   "execution_count": 95,
   "metadata": {},
   "outputs": [
    {
     "name": "stdout",
     "output_type": "stream",
     "text": [
      "sample size 7613\n",
      "+--------------------+-------+-------+-------+\n",
      "|         source_name|species|motif_0|motif_1|\n",
      "+--------------------+-------+-------+-------+\n",
      "|train_audio/dunli...| dunlin|  138.0|  112.0|\n",
      "|train_audio/brnow...| brnowl|  116.0|   59.0|\n",
      "|train_audio/malla...|mallar3| 1855.0| 1707.0|\n",
      "|train_audio/malla...|mallar3|  935.0|  152.0|\n",
      "|train_audio/pibgr...| pibgre|    0.0|   81.0|\n",
      "|train_audio/norpi...| norpin|    0.0|   25.0|\n",
      "|train_audio/eurwi...| eurwig|  284.0|  310.0|\n",
      "|train_audio/skyla...| skylar|   53.0|    0.0|\n",
      "|train_audio/norsh...| norsho|   null|   null|\n",
      "|train_audio/cacgo...|cacgoo1|  133.0|  159.0|\n",
      "|train_audio/ospre...| osprey| 3129.0| 3028.0|\n",
      "|train_audio/normo...| normoc| 2054.0| 1781.0|\n",
      "|train_audio/brnow...| brnowl|   77.0|  236.0|\n",
      "|train_audio/norca...| norcar|  211.0|  185.0|\n",
      "|train_audio/malla...|mallar3|    0.0|   25.0|\n",
      "|train_audio/malla...|mallar3|   40.0|   14.0|\n",
      "|train_audio/normo...| normoc| 1159.0| 1283.0|\n",
      "|train_audio/gnwte...| gnwtea|    0.0|   25.0|\n",
      "|train_audio/bcnhe...| bcnher|  179.0|   95.0|\n",
      "|train_audio/brnow...| brnowl|  265.0|   76.0|\n",
      "+--------------------+-------+-------+-------+\n",
      "only showing top 20 rows\n",
      "\n"
     ]
    }
   ],
   "source": [
    "import functools\n",
    "\n",
    "n_samples = int(1e6)\n",
    "\n",
    "# we generate two sets of dataset, and then union them at the end first generate\n",
    "# the same of completely random samples. This will comprise of half our distant\n",
    "# data. The other half will comprise of random samples from motifs. We will\n",
    "# always choose to use stratified sampling in order to represent all species\n",
    "# equally.\n",
    "\n",
    "est_size = df.sampleBy(\"species\", fractions=max_freq).count()\n",
    "a# then we union this many together, in order to get roughly our dataset size.\n",
    "# Note that we try to increase the sample size for the fraction of items to\n",
    "# samples as close to 1 as we can, so we can reduce the number of times that we\n",
    "# sample things\n",
    "print(\"sample size\", est_size)\n",
    "\n",
    "stratified_motif_df = (\n",
    "    functools.reduce(\n",
    "        lambda x, y: x.union(y),\n",
    "        [\n",
    "            df.sampleBy(\"species\").select(\n",
    "                \"source_name\", \"species\", \"motif_0\", \"motif_1\"\n",
    "            )\n",
    "            for i in range(n_samples // est_size // 2)\n",
    "        ],\n",
    "    )\n",
    "    .repartition(8)\n",
    "    .cache()\n",
    ")\n",
    "\n",
    "stratified_motif_df.show()"
   ]
  },
  {
   "cell_type": "code",
   "execution_count": 96,
   "metadata": {},
   "outputs": [
    {
     "data": {
      "text/plain": [
       "497752"
      ]
     },
     "execution_count": 96,
     "metadata": {},
     "output_type": "execute_result"
    }
   ],
   "source": [
    "stratified_motif_df.count()"
   ]
  },
  {
   "cell_type": "code",
   "execution_count": 99,
   "metadata": {},
   "outputs": [
    {
     "name": "stdout",
     "output_type": "stream",
     "text": [
      "+-------+-----+\n",
      "|species|count|\n",
      "+-------+-----+\n",
      "| houspa|31767|\n",
      "| skylar|31764|\n",
      "|mallar3|31743|\n",
      "| brnowl|31722|\n",
      "| comsan|31716|\n",
      "| norcar|31691|\n",
      "| dunlin|28707|\n",
      "| gnwtea|27280|\n",
      "| bcnher|27113|\n",
      "| normoc|18954|\n",
      "| wesmea|14995|\n",
      "| eurwig|14625|\n",
      "| houfin|13144|\n",
      "| cangoo|12756|\n",
      "| rorpar|12250|\n",
      "| gwfgoo| 9426|\n",
      "| bkbplo| 9356|\n",
      "| rinphe| 7918|\n",
      "| gadwal| 7284|\n",
      "| osprey| 6673|\n",
      "+-------+-----+\n",
      "only showing top 20 rows\n",
      "\n"
     ]
    }
   ],
   "source": [
    "stratified_motif_df.groupby(\"species\").count().orderBy(F.desc(\"count\")).show()"
   ]
  },
  {
   "cell_type": "code",
   "execution_count": 97,
   "metadata": {},
   "outputs": [
    {
     "data": {
      "image/png": "[encoded data removed]",
      "text/plain": [
       "<Figure size 432x288 with 1 Axes>"
      ]
     },
     "metadata": {
      "needs_background": "light"
     },
     "output_type": "display_data"
    }
   ],
   "source": [
    "pdf = stratified_motif_df.groupby(\"species\").count().toPandas()\n",
    "plt.hist(pdf[\"count\"])\n",
    "plt.show()"
   ]
  }
 ],
 "metadata": {
  "interpreter": {
   "hash": "41049156054574101fa2f03899789afedde2f669574f38e007c535191dd9fbab"
  },
  "kernelspec": {
   "display_name": "Python 3.8.9 64-bit ('venv': venv)",
   "language": "python",
   "name": "python3"
  },
  "language_info": {
   "codemirror_mode": {
    "name": "ipython",
    "version": 3
   },
   "file_extension": ".py",
   "mimetype": "text/x-python",
   "name": "python",
   "nbconvert_exporter": "python",
   "pygments_lexer": "ipython3",
   "version": "3.8.9"
  },
  "orig_nbformat": 4
 },
 "nbformat": 4,
 "nbformat_minor": 2
}
