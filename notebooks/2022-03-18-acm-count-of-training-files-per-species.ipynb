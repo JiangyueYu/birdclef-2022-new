{
 "cells": [
  {
   "cell_type": "code",
   "execution_count": 1,
   "metadata": {},
   "outputs": [],
   "source": [
    "%load_ext lab_black"
   ]
  },
  {
   "cell_type": "code",
   "execution_count": 2,
   "metadata": {},
   "outputs": [
    {
     "data": {
      "text/plain": [
       "Counter({'akiapo': 14,\n",
       "         'aniani': 12,\n",
       "         'apapan': 47,\n",
       "         'barpet': 15,\n",
       "         'crehon': 2,\n",
       "         'elepai': 14,\n",
       "         'ercfra': 6,\n",
       "         'hawama': 21,\n",
       "         'hawcre': 20,\n",
       "         'hawgoo': 9,\n",
       "         'hawhaw': 3,\n",
       "         'hawpet1': 3,\n",
       "         'houfin': 322,\n",
       "         'iiwi': 37,\n",
       "         'jabwar': 78,\n",
       "         'maupar': 1,\n",
       "         'omao': 21,\n",
       "         'puaioh': 3,\n",
       "         'skylar': 500,\n",
       "         'warwhe1': 71,\n",
       "         'yefcan': 67})"
      ]
     },
     "execution_count": 2,
     "metadata": {},
     "output_type": "execute_result"
    }
   ],
   "source": [
    "from collections import Counter\n",
    "from pathlib import Path\n",
    "import json\n",
    "\n",
    "scored_birds_path = \"../data/raw/birdclef-2022/scored_birds.json\"\n",
    "train_audio_path = \"../data/raw/birdclef-2022/train_audio\"\n",
    "scored_birds = set(json.loads(Path(scored_birds_path).read_text()))\n",
    "count = Counter(\n",
    "    [\n",
    "        p.parent.name\n",
    "        for p in Path(train_audio_path).glob(\"**/*.ogg\")\n",
    "        if p.parent.name in scored_birds\n",
    "    ]\n",
    ")\n",
    "count"
   ]
  },
  {
   "cell_type": "code",
   "execution_count": 5,
   "metadata": {},
   "outputs": [
    {
     "data": {
      "image/png": "[encoded data removed]",
      "text/plain": [
       "<Figure size 432x288 with 1 Axes>"
      ]
     },
     "metadata": {
      "needs_background": "light"
     },
     "output_type": "display_data"
    }
   ],
   "source": [
    "import matplotlib.pyplot as plt\n",
    "import numpy as np\n",
    "\n",
    "x = np.array(list(count.values()))\n",
    "plt.hist(np.log2(x))\n",
    "plt.show()"
   ]
  }
 ],
 "metadata": {
  "interpreter": {
   "hash": "41049156054574101fa2f03899789afedde2f669574f38e007c535191dd9fbab"
  },
  "kernelspec": {
   "display_name": "Python 3.8.9 64-bit ('venv': venv)",
   "language": "python",
   "name": "python3"
  },
  "language_info": {
   "codemirror_mode": {
    "name": "ipython",
    "version": 3
   },
   "file_extension": ".py",
   "mimetype": "text/x-python",
   "name": "python",
   "nbconvert_exporter": "python",
   "pygments_lexer": "ipython3",
   "version": "3.8.9"
  },
  "orig_nbformat": 4
 },
 "nbformat": 4,
 "nbformat_minor": 2
}
