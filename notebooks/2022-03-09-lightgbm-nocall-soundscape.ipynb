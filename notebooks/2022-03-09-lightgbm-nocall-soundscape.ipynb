{
 "cells": [
  {
   "cell_type": "code",
   "execution_count": null,
   "metadata": {},
   "outputs": [],
   "source": [
    "%load_ext autoreload\n",
    "%autoreload 2\n",
    "%load_ext lab_black"
   ]
  },
  {
   "cell_type": "code",
   "execution_count": 2,
   "metadata": {},
   "outputs": [
    {
     "name": "stdout",
     "output_type": "stream",
     "text": [
      "epoch=2-step=10872.ckpt\n",
      "epoch=2-step=9091.ckpt\n",
      "epoch=2-step=9959.ckpt\n"
     ]
    }
   ],
   "source": [
    "! ls ../data/intermediate/embedding/tile2vec-v2/version_1/checkpoints"
   ]
  },
  {
   "cell_type": "code",
   "execution_count": 1,
   "metadata": {},
   "outputs": [
    {
     "name": "stderr",
     "output_type": "stream",
     "text": [
      "100%|██████████| 20/20 [00:16<00:00,  1.20it/s]\n"
     ]
    },
    {
     "data": {
      "text/html": [
       "<div>\n",
       "<style scoped>\n",
       "    .dataframe tbody tr th:only-of-type {\n",
       "        vertical-align: middle;\n",
       "    }\n",
       "\n",
       "    .dataframe tbody tr th {\n",
       "        vertical-align: top;\n",
       "    }\n",
       "\n",
       "    .dataframe thead th {\n",
       "        text-align: right;\n",
       "    }\n",
       "</style>\n",
       "<table border=\"1\" class=\"dataframe\">\n",
       "  <thead>\n",
       "    <tr style=\"text-align: right;\">\n",
       "      <th></th>\n",
       "      <th>x</th>\n",
       "      <th>y</th>\n",
       "    </tr>\n",
       "  </thead>\n",
       "  <tbody>\n",
       "    <tr>\n",
       "      <th>0</th>\n",
       "      <td>[-0.08553279, -0.08384135, -0.041250665, -0.01...</td>\n",
       "      <td>0</td>\n",
       "    </tr>\n",
       "    <tr>\n",
       "      <th>1</th>\n",
       "      <td>[0.021114878, 0.003057547, -0.02268604, 0.0004...</td>\n",
       "      <td>0</td>\n",
       "    </tr>\n",
       "    <tr>\n",
       "      <th>2</th>\n",
       "      <td>[0.018344874, 0.04597478, 0.05685617, 0.049335...</td>\n",
       "      <td>0</td>\n",
       "    </tr>\n",
       "    <tr>\n",
       "      <th>3</th>\n",
       "      <td>[-0.10187924, -0.13058019, -0.11406977, -0.125...</td>\n",
       "      <td>0</td>\n",
       "    </tr>\n",
       "    <tr>\n",
       "      <th>4</th>\n",
       "      <td>[0.05506949, 0.050840594, 0.057296656, 0.06219...</td>\n",
       "      <td>0</td>\n",
       "    </tr>\n",
       "  </tbody>\n",
       "</table>\n",
       "</div>"
      ],
      "text/plain": [
       "                                                   x  y\n",
       "0  [-0.08553279, -0.08384135, -0.041250665, -0.01...  0\n",
       "1  [0.021114878, 0.003057547, -0.02268604, 0.0004...  0\n",
       "2  [0.018344874, 0.04597478, 0.05685617, 0.049335...  0\n",
       "3  [-0.10187924, -0.13058019, -0.11406977, -0.125...  0\n",
       "4  [0.05506949, 0.050840594, 0.057296656, 0.06219...  0"
      ]
     },
     "execution_count": 1,
     "metadata": {},
     "output_type": "execute_result"
    }
   ],
   "source": [
    "from birdclef.datasets import soundscape\n",
    "from pathlib import Path\n",
    "from birdclef.models.embedding.tilenet import TileNet\n",
    "import lightgbm as lgb\n",
    "\n",
    "df = soundscape.load(Path(\"../data/raw/birdclef-2021\"))\n",
    "df.head()"
   ]
  },
  {
   "cell_type": "code",
   "execution_count": 2,
   "metadata": {},
   "outputs": [
    {
     "name": "stdout",
     "output_type": "stream",
     "text": [
      "stft hop length 2474\n",
      "STFT kernels created, time used = 0.3905 seconds\n",
      "STFT filter created, time used = 0.0040 seconds\n",
      "Mel filter created, time used = 0.0040 seconds\n",
      "MelSpectrogram(\n",
      "  Mel filter banks size = (64, 2049), trainable_mel=True\n",
      "  (stft): STFT(n_fft=4096, Fourier Kernel size=(2049, 1, 4096), iSTFT=False, trainable=False)\n",
      ")\n"
     ]
    }
   ],
   "source": [
    "model = TileNet.load_from_checkpoint(\n",
    "    \"../data/intermediate/embedding/tile2vec-v2/version_1/checkpoints/\"\n",
    "    \"epoch=2-step=10872.ckpt\",\n",
    "    z_dim=64,\n",
    ")"
   ]
  },
  {
   "cell_type": "code",
   "execution_count": 3,
   "metadata": {},
   "outputs": [
    {
     "data": {
      "text/plain": [
       "(array([[2.2508330e+00, 8.8082628e+00, 9.3905468e+00, 4.8550290e-01,\n",
       "         5.8822737e+00, 1.0486790e+01, 7.7593985e+00, 9.9138327e+00,\n",
       "         6.1419892e+00, 3.4429073e+00, 3.9849892e+00, 3.5394737e-01,\n",
       "         5.8572683e+00, 2.2477703e+00, 6.4257421e+00, 1.1585745e+01,\n",
       "         4.6964741e+00, 3.9278669e+00, 3.5020959e+00, 5.1170945e-01,\n",
       "         4.5977554e-01, 1.8609900e+00, 1.2832613e+01, 5.3667742e-01,\n",
       "         9.4268239e-01, 3.4739966e+00, 4.9333191e+00, 7.0120564e+00,\n",
       "         2.0338153e-04, 5.8326757e-01, 1.2548125e+01, 4.6064982e-01,\n",
       "         2.7010260e+00, 9.8897066e+00, 4.9195185e+00, 4.8125172e+00,\n",
       "         4.6936277e-01, 6.6346726e+00, 5.2051407e-01, 1.3451871e+00,\n",
       "         2.6434662e+00, 4.1004169e-01, 2.0808036e+00, 2.1004744e+00,\n",
       "         7.7231364e+00, 7.5292599e-01, 5.9586463e+00, 3.3740917e-01,\n",
       "         1.3798639e+00, 8.7963419e+00, 9.6005287e+00, 5.5182881e+00,\n",
       "         1.5070585e+00, 1.4211098e+00, 3.2417050e-01, 1.2978460e+00,\n",
       "         3.2902676e-01, 3.4951481e-01, 3.1366073e-02, 9.5233755e+00,\n",
       "         7.0290546e+00, 5.7756662e+00, 5.9195004e+00, 8.7404776e+00],\n",
       "        [3.5208097e+00, 7.5636277e+00, 8.0908060e+00, 2.2265770e+00,\n",
       "         8.0729809e+00, 9.0874929e+00, 6.6794386e+00, 8.6261568e+00,\n",
       "         8.5914717e+00, 4.4601936e+00, 5.5699039e+00, 2.4647472e+00,\n",
       "         7.8685036e+00, 3.5589828e+00, 5.6121826e+00, 1.0451680e+01,\n",
       "         7.3047042e+00, 3.6417887e+00, 4.4930563e+00, 3.0937185e+00,\n",
       "         8.9992887e-01, 3.7543054e+00, 1.1309472e+01, 2.9695580e+00,\n",
       "         2.8715878e+00, 3.0262003e+00, 4.7442088e+00, 6.1891403e+00,\n",
       "         3.5433317e-04, 2.7669320e+00, 1.0936508e+01, 2.5876465e+00,\n",
       "         4.2556934e+00, 8.5399599e+00, 4.3044453e+00, 4.4415817e+00,\n",
       "         2.2063196e+00, 5.7307811e+00, 4.2978835e-01, 1.1051528e+00,\n",
       "         3.4218352e+00, 2.4835823e+00, 3.4934731e+00, 2.8467855e+00,\n",
       "         7.1367769e+00, 1.0033847e+00, 5.5338917e+00, 2.4380412e+00,\n",
       "         2.2021706e+00, 8.2737703e+00, 8.3979120e+00, 5.1216893e+00,\n",
       "         3.1767623e+00, 1.1848708e+00, 2.4386239e+00, 2.9998908e+00,\n",
       "         2.2573886e+00, 1.9385748e+00, 1.6385777e-02, 8.1677923e+00,\n",
       "         6.2458696e+00, 5.2074428e+00, 5.4592710e+00, 7.6423211e+00],\n",
       "        [6.6298203e+00, 7.7725644e+00, 8.2343245e+00, 4.0462337e+00,\n",
       "         1.3180019e+01, 1.0237720e+01, 7.0225191e+00, 9.0794106e+00,\n",
       "         1.4438483e+01, 8.4370689e+00, 1.0543866e+01, 4.7484889e+00,\n",
       "         1.2774738e+01, 4.9476056e+00, 6.0699711e+00, 1.1177276e+01,\n",
       "         1.2870242e+01, 5.4314661e+00, 5.8491988e+00, 5.8418865e+00,\n",
       "         3.0431581e+00, 7.1034203e+00, 1.1480793e+01, 5.7757807e+00,\n",
       "         4.8742180e+00, 4.0103393e+00, 7.7748547e+00, 6.3888988e+00,\n",
       "         1.4495626e-03, 6.1122680e+00, 1.1238151e+01, 4.7836595e+00,\n",
       "         9.0005913e+00, 8.6881895e+00, 4.2743235e+00, 6.5563040e+00,\n",
       "         3.9866259e+00, 6.1028447e+00, 3.6805803e-01, 1.0573138e+00,\n",
       "         6.7654619e+00, 4.7643323e+00, 5.2349782e+00, 7.3898516e+00,\n",
       "         1.0011351e+01, 3.0550747e+00, 8.4006939e+00, 4.5175176e+00,\n",
       "         6.1759229e+00, 9.5802326e+00, 8.3352289e+00, 7.6486139e+00,\n",
       "         7.5698214e+00, 1.0490129e+00, 5.0416660e+00, 4.4894762e+00,\n",
       "         4.4709358e+00, 2.6843796e+00, 1.1680840e-02, 8.5942497e+00,\n",
       "         6.9452457e+00, 7.3858457e+00, 8.2425156e+00, 8.1805515e+00]],\n",
       "       dtype=float32),\n",
       " (2400, 64))"
      ]
     },
     "execution_count": 3,
     "metadata": {},
     "output_type": "execute_result"
    }
   ],
   "source": [
    "import numpy as np\n",
    "import torch\n",
    "\n",
    "device = torch.device(\"cuda:0\" if torch.cuda.is_available() else \"cpu\")\n",
    "model.to(device)\n",
    "\n",
    "X_raw = np.stack(df.x.values)\n",
    "dataset = torch.utils.data.TensorDataset(torch.from_numpy(X_raw))\n",
    "dataloader = torch.utils.data.DataLoader(dataset, batch_size=50)\n",
    "res = []\n",
    "for batch in dataloader:\n",
    "    # note that we can't use the trainer because the batches end up being lists\n",
    "    res.append(model(batch[0].to(device)).cpu().detach().numpy())\n",
    "emb = np.concatenate(res)\n",
    "emb[:3], emb.shape"
   ]
  },
  {
   "cell_type": "code",
   "execution_count": 18,
   "metadata": {},
   "outputs": [],
   "source": [
    "import lightgbm as lgb\n",
    "from sklearn.model_selection import train_test_split\n",
    "\n",
    "X_train, X_test, y_train, y_test = train_test_split(emb, df.y.values, train_size=0.9)\n",
    "# X_test, X_val, y_test, y_val = train_test_split(X_test, y_test, train_size=0.5)\n",
    "\n",
    "train_data = lgb.Dataset(X_train, label=y_train)\n",
    "# val_data = lgb.Dataset(X_val, label=y_val)\n",
    "test_data = lgb.Dataset(X_test, label=y_test)"
   ]
  },
  {
   "cell_type": "code",
   "execution_count": 22,
   "metadata": {},
   "outputs": [
    {
     "name": "stdout",
     "output_type": "stream",
     "text": [
      "[LightGBM] [Info] Number of positive: 630, number of negative: 1098\n",
      "[LightGBM] [Warning] Auto-choosing col-wise multi-threading, the overhead of testing was 0.002966 seconds.\n",
      "You can set `force_col_wise=true` to remove the overhead.\n",
      "[LightGBM] [Info] Total Bins 16320\n",
      "[LightGBM] [Info] Number of data points in the train set: 1728, number of used features: 64\n",
      "[LightGBM] [Info] Number of positive: 630, number of negative: 1098\n",
      "[LightGBM] [Warning] Auto-choosing col-wise multi-threading, the overhead of testing was 0.002555 seconds.\n",
      "You can set `force_col_wise=true` to remove the overhead.\n",
      "[LightGBM] [Info] Total Bins 16320\n",
      "[LightGBM] [Info] Number of data points in the train set: 1728, number of used features: 64\n",
      "[LightGBM] [Info] Number of positive: 630, number of negative: 1098\n",
      "[LightGBM] [Warning] Auto-choosing col-wise multi-threading, the overhead of testing was 0.002514 seconds.\n",
      "You can set `force_col_wise=true` to remove the overhead.\n",
      "[LightGBM] [Info] Total Bins 16320\n",
      "[LightGBM] [Info] Number of data points in the train set: 1728, number of used features: 64\n",
      "[LightGBM] [Info] Number of positive: 631, number of negative: 1097\n",
      "[LightGBM] [Warning] Auto-choosing col-wise multi-threading, the overhead of testing was 0.002521 seconds.\n",
      "You can set `force_col_wise=true` to remove the overhead.\n",
      "[LightGBM] [Info] Total Bins 16320\n",
      "[LightGBM] [Info] Number of data points in the train set: 1728, number of used features: 64\n",
      "[LightGBM] [Info] Number of positive: 631, number of negative: 1097\n",
      "[LightGBM] [Warning] Auto-choosing col-wise multi-threading, the overhead of testing was 0.002333 seconds.\n",
      "You can set `force_col_wise=true` to remove the overhead.\n",
      "[LightGBM] [Info] Total Bins 16320\n",
      "[LightGBM] [Info] Number of data points in the train set: 1728, number of used features: 64\n",
      "[LightGBM] [Info] [binary:BoostFromScore]: pavg=0.364583 -> initscore=-0.555526\n",
      "[LightGBM] [Info] Start training from score -0.555526\n",
      "[LightGBM] [Info] [binary:BoostFromScore]: pavg=0.364583 -> initscore=-0.555526\n",
      "[LightGBM] [Info] Start training from score -0.555526\n",
      "[LightGBM] [Info] [binary:BoostFromScore]: pavg=0.364583 -> initscore=-0.555526\n",
      "[LightGBM] [Info] Start training from score -0.555526\n",
      "[LightGBM] [Info] [binary:BoostFromScore]: pavg=0.365162 -> initscore=-0.553029\n",
      "[LightGBM] [Info] Start training from score -0.553029\n",
      "[LightGBM] [Info] [binary:BoostFromScore]: pavg=0.365162 -> initscore=-0.553029\n",
      "[LightGBM] [Info] Start training from score -0.553029\n",
      "Training until validation scores don't improve for 5 rounds\n",
      "Early stopping, best iteration is:\n",
      "[39]\tcv_agg's auc: 0.786432 + 0.012393\n"
     ]
    }
   ],
   "source": [
    "param = {'num_leaves': 31, 'objective': 'binary'}\n",
    "param['metric'] = 'auc'\n",
    "\n",
    "num_boost_round = 100\n",
    "bst = lgb.cv(\n",
    "    param, \n",
    "    train_data, \n",
    "    num_boost_round,\n",
    "    nfold=5,\n",
    "    callbacks=[lgb.early_stopping(stopping_rounds=5)],\n",
    "    return_cvbooster=True\n",
    ")"
   ]
  },
  {
   "cell_type": "code",
   "execution_count": 29,
   "metadata": {},
   "outputs": [
    {
     "data": {
      "text/plain": [
       "39"
      ]
     },
     "execution_count": 29,
     "metadata": {},
     "output_type": "execute_result"
    }
   ],
   "source": [
    "bst[\"cvbooster\"].best_iteration"
   ]
  },
  {
   "cell_type": "code",
   "execution_count": 26,
   "metadata": {},
   "outputs": [
    {
     "data": {
      "text/plain": [
       "[<lightgbm.basic.Booster at 0x2b470662430>,\n",
       " <lightgbm.basic.Booster at 0x2b491691b80>,\n",
       " <lightgbm.basic.Booster at 0x2b491691eb0>,\n",
       " <lightgbm.basic.Booster at 0x2b48af0f5e0>,\n",
       " <lightgbm.basic.Booster at 0x2b48df404c0>]"
      ]
     },
     "execution_count": 26,
     "metadata": {},
     "output_type": "execute_result"
    }
   ],
   "source": [
    "bst[\"cvbooster\"].save_model('../data/intermediate/2022-03-09-lgb-test.txt', num_iteration=bst[\"cvbooster\"].best_iteration)"
   ]
  },
  {
   "cell_type": "code",
   "execution_count": 34,
   "metadata": {},
   "outputs": [
    {
     "data": {
      "text/plain": [
       "array([1, 0, 1, 0, 0, 0, 0, 1, 0, 0, 0, 1, 0, 1, 1, 1, 0, 1, 0, 0, 1, 1,\n",
       "       0, 0, 0, 0, 0, 1, 0, 0, 0, 1, 0, 1, 0, 1, 0, 0, 0, 0, 0, 0, 0, 0,\n",
       "       1, 0, 0, 0, 1, 1, 1, 0, 0, 1, 0, 1, 1, 1, 1, 1, 0, 1, 0, 0, 1, 1,\n",
       "       1, 0, 0, 0, 1, 1, 0, 1, 1, 1, 0, 1, 1, 0, 0, 0, 0, 0, 0, 0, 0, 0,\n",
       "       1, 0, 1, 1, 0, 0, 0, 0, 0, 0, 0, 0, 0, 0, 0, 1, 0, 0, 1, 0, 1, 0,\n",
       "       0, 0, 0, 0, 0, 0, 0, 1, 0, 1, 1, 0, 0, 1, 0, 1, 0, 0, 1, 1, 0, 1,\n",
       "       0, 1, 0, 0, 0, 1, 0, 0, 1, 0, 0, 0, 0, 0, 1, 0, 0, 1, 0, 0, 0, 0,\n",
       "       0, 0, 0, 1, 0, 0, 0, 1, 0, 1, 0, 0, 0, 0, 1, 0, 0, 0, 1, 0, 0, 0,\n",
       "       0, 1, 1, 1, 0, 0, 1, 0, 0, 0, 0, 1, 1, 0, 1, 1, 1, 0, 0, 1, 0, 0,\n",
       "       0, 0, 1, 0, 0, 0, 1, 0, 0, 0, 0, 0, 0, 1, 0, 0, 1, 0, 0, 1, 0, 0,\n",
       "       1, 0, 0, 1, 0, 0, 1, 0, 1, 0, 0, 1, 0, 0, 1, 1, 1, 1, 0, 0])"
      ]
     },
     "execution_count": 34,
     "metadata": {},
     "output_type": "execute_result"
    }
   ],
   "source": [
    "y_test"
   ]
  },
  {
   "cell_type": "code",
   "execution_count": 40,
   "metadata": {},
   "outputs": [
    {
     "data": {
      "text/plain": [
       "(5, 240)"
      ]
     },
     "execution_count": 40,
     "metadata": {},
     "output_type": "execute_result"
    }
   ],
   "source": [
    "np.array(bst[\"cvbooster\"].predict(X_test)).shape"
   ]
  },
  {
   "cell_type": "code",
   "execution_count": 53,
   "metadata": {},
   "outputs": [
    {
     "name": "stdout",
     "output_type": "stream",
     "text": [
      "0.7716598879594811\n",
      "0.7592663648223468\n",
      "0.7755736321080501\n",
      "0.7494436344102524\n",
      "0.7520144271352927\n"
     ]
    }
   ],
   "source": [
    "from sklearn.metrics import roc_auc_score\n",
    "for pred in bst[\"cvbooster\"].predict(X_test):\n",
    "    print(roc_auc_score(y_test, pred))"
   ]
  }
 ],
 "metadata": {
  "interpreter": {
   "hash": "41049156054574101fa2f03899789afedde2f669574f38e007c535191dd9fbab"
  },
  "kernelspec": {
   "display_name": "Python 3.8.9 64-bit ('venv': venv)",
   "language": "python",
   "name": "python3"
  },
  "language_info": {
   "codemirror_mode": {
    "name": "ipython",
    "version": 3
   },
   "file_extension": ".py",
   "mimetype": "text/x-python",
   "name": "python",
   "nbconvert_exporter": "python",
   "pygments_lexer": "ipython3",
   "version": "3.8.9"
  },
  "orig_nbformat": 4
 },
 "nbformat": 4,
 "nbformat_minor": 2
}
