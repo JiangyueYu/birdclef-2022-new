{
 "cells": [
  {
   "cell_type": "markdown",
   "metadata": {},
   "source": [
    "# How long are birdcall recordings"
   ]
  },
  {
   "cell_type": "code",
   "execution_count": 1,
   "metadata": {},
   "outputs": [],
   "source": [
    "%load_ext autoreload\n",
    "%autoreload 2\n",
    "%load_ext lab_black"
   ]
  },
  {
   "cell_type": "code",
   "execution_count": 21,
   "metadata": {},
   "outputs": [
    {
     "data": {
      "text/html": [
       "\n",
       "            <div>\n",
       "                <p><b>SparkSession - in-memory</b></p>\n",
       "                \n",
       "        <div>\n",
       "            <p><b>SparkContext</b></p>\n",
       "\n",
       "            <p><a href=\"http://DESKTOP-A3EF5O5.mshome.net:4040\">Spark UI</a></p>\n",
       "\n",
       "            <dl>\n",
       "              <dt>Version</dt>\n",
       "                <dd><code>v3.2.1</code></dd>\n",
       "              <dt>Master</dt>\n",
       "                <dd><code>local[*]</code></dd>\n",
       "              <dt>AppName</dt>\n",
       "                <dd><code>pyspark-shell</code></dd>\n",
       "            </dl>\n",
       "        </div>\n",
       "        \n",
       "            </div>\n",
       "        "
      ],
      "text/plain": [
       "<pyspark.sql.session.SparkSession at 0x1fbfc4adca0>"
      ]
     },
     "execution_count": 21,
     "metadata": {},
     "output_type": "execute_result"
    }
   ],
   "source": [
    "from pyspark.sql import SparkSession, functions as F\n",
    "import os\n",
    "import sys\n",
    "\n",
    "os.environ[\"PYSPARK_PYTHON\"] = sys.executable\n",
    "os.environ[\"PYSPARK_DRIVER_PYTHON\"] = sys.executable\n",
    "spark = SparkSession.builder.getOrCreate()\n",
    "spark"
   ]
  },
  {
   "cell_type": "code",
   "execution_count": 14,
   "metadata": {},
   "outputs": [
    {
     "name": "stdout",
     "output_type": "stream",
     "text": [
      "root\n",
      " |-- primary_label: string (nullable = true)\n",
      " |-- secondary_labels: string (nullable = true)\n",
      " |-- type: string (nullable = true)\n",
      " |-- latitude: string (nullable = true)\n",
      " |-- longitude: string (nullable = true)\n",
      " |-- scientific_name: string (nullable = true)\n",
      " |-- common_name: string (nullable = true)\n",
      " |-- author: string (nullable = true)\n",
      " |-- license: string (nullable = true)\n",
      " |-- rating: string (nullable = true)\n",
      " |-- time: string (nullable = true)\n",
      " |-- url: string (nullable = true)\n",
      " |-- filename: string (nullable = true)\n",
      "\n",
      "-RECORD 0---------------------------------------------------------------------\n",
      " primary_label    | houfin                                                    \n",
      " secondary_labels | []                                                        \n",
      " type             | ['song']                                                  \n",
      " latitude         | 19.392                                                    \n",
      " longitude        | -99.241                                                   \n",
      " scientific_name  | Haemorhous mexicanus                                      \n",
      " common_name      | House Finch                                               \n",
      " author           | Manuel Grosselet                                          \n",
      " license          | Creative Commons Attribution-NonCommercial-ShareAlike 4.0 \n",
      " rating           | 5.0                                                       \n",
      " time             | 07:00                                                     \n",
      " url              | https://www.xeno-canto.org/466481                         \n",
      " filename         | houfin/XC466481.ogg                                       \n",
      "only showing top 1 row\n",
      "\n"
     ]
    }
   ],
   "source": [
    "df = (\n",
    "    spark.read.csv(\"../data/raw/birdclef-2022/train_metadata.csv\", header=True)\n",
    "    .repartition(8)\n",
    "    .cache()\n",
    ")\n",
    "df.printSchema()\n",
    "df.show(vertical=True, n=1, truncate=False)"
   ]
  },
  {
   "cell_type": "code",
   "execution_count": 81,
   "metadata": {},
   "outputs": [
    {
     "data": {
      "text/plain": [
       "14852"
      ]
     },
     "execution_count": 81,
     "metadata": {},
     "output_type": "execute_result"
    }
   ],
   "source": [
    "df.count()"
   ]
  },
  {
   "cell_type": "code",
   "execution_count": 46,
   "metadata": {},
   "outputs": [
    {
     "name": "stdout",
     "output_type": "stream",
     "text": [
      "+--------+-----+\n",
      "|    time|count|\n",
      "+--------+-----+\n",
      "|       x|    7|\n",
      "|   ??:??|    1|\n",
      "|       .|   13|\n",
      "|19:18:57|    1|\n",
      "|     ?:?|   51|\n",
      "|      am|    9|\n",
      "|       ?|  487|\n",
      "|08:53:50|    1|\n",
      "|07:57:21|    1|\n",
      "|07:46:52|    1|\n",
      "|      pm|    1|\n",
      "|04:31:10|    1|\n",
      "|07:57:28|    1|\n",
      "|11:23:40|    1|\n",
      "|20:51:07|    1|\n",
      "|02:10:41|    1|\n",
      "|13:13:37|    1|\n",
      "|07:55:40|    1|\n",
      "|07:18:57|    1|\n",
      "|08:41:55|    1|\n",
      "+--------+-----+\n",
      "only showing top 20 rows\n",
      "\n"
     ]
    }
   ],
   "source": [
    "(\n",
    "    df.select(\"time\")\n",
    "    .where(\"length(time) < 3 or time like '%?%' or time like '%:%:%'\")\n",
    "    .groupBy(\"time\")\n",
    "    .count()\n",
    "    .show()\n",
    ")"
   ]
  },
  {
   "cell_type": "code",
   "execution_count": 58,
   "metadata": {},
   "outputs": [
    {
     "name": "stdout",
     "output_type": "stream",
     "text": [
      "+-------------+--------+\n",
      "|primary_label|duration|\n",
      "+-------------+--------+\n",
      "|       houfin|     420|\n",
      "|       wesmea|     989|\n",
      "|       norcar|     500|\n",
      "|       normoc|     570|\n",
      "|       skylar|    1110|\n",
      "|       calqua|     711|\n",
      "|       bcnher|     241|\n",
      "|       gnwtea|    1200|\n",
      "|       skylar|     686|\n",
      "|       zebdov|    1031|\n",
      "|       commyn|     390|\n",
      "|       rorpar|     510|\n",
      "|      comgal1|     975|\n",
      "|       skylar|    1110|\n",
      "|        brant|     338|\n",
      "|       norsho|    1320|\n",
      "|       comwax|     778|\n",
      "|       rorpar|    1110|\n",
      "|       glwgul|     450|\n",
      "|       redjun|     930|\n",
      "+-------------+--------+\n",
      "only showing top 20 rows\n",
      "\n"
     ]
    }
   ],
   "source": [
    "import re\n",
    "\n",
    "\n",
    "@F.udf(returnType=\"int\")\n",
    "def time_to_seconds(time):\n",
    "    # this could be done in pure sql too, fwiw\n",
    "    if not time or re.search(r\"[^0-9:]\", time):\n",
    "        return -1\n",
    "    try:\n",
    "        minute, sec = time.split(\":\")\n",
    "        hour = \"0\"\n",
    "    except:\n",
    "        hour, minute, sec = time.split(\":\")\n",
    "    return (\n",
    "        int(hour.lstrip(\"0\") or \"0\")\n",
    "        + int(minute.lstrip(\"0\") or \"0\") * 60\n",
    "        + int(sec.lstrip(\"0\") or \"0\")\n",
    "    )\n",
    "\n",
    "\n",
    "times = df.select(\"primary_label\", time_to_seconds(\"time\").alias(\"duration\"))\n",
    "times.show()"
   ]
  },
  {
   "cell_type": "code",
   "execution_count": 59,
   "metadata": {},
   "outputs": [],
   "source": [
    "pdf = times.toPandas()"
   ]
  },
  {
   "cell_type": "code",
   "execution_count": 80,
   "metadata": {},
   "outputs": [
    {
     "data": {
      "image/png": "[encoded data removed]",
      "text/plain": [
       "<Figure size 432x288 with 1 Axes>"
      ]
     },
     "metadata": {
      "needs_background": "light"
     },
     "output_type": "display_data"
    }
   ],
   "source": [
    "import matplotlib.pyplot as plt\n",
    "\n",
    "plt.hist(pdf[(pdf.duration / 60 < 30) & (pdf.duration > 0)].duration / 60, bins=50)\n",
    "plt.title(\"histogram of train_audio duration in minutes\")\n",
    "plt.xlabel(\"duration (minutes)\")\n",
    "plt.show()"
   ]
  },
  {
   "cell_type": "markdown",
   "metadata": {},
   "source": [
    "## some stats about the motif dataset"
   ]
  },
  {
   "cell_type": "code",
   "execution_count": 3,
   "metadata": {},
   "outputs": [
    {
     "name": "stdout",
     "output_type": "stream",
     "text": [
      "2022-02-21-motif\n"
     ]
    }
   ],
   "source": [
    "!ls ../data/intermediate/"
   ]
  },
  {
   "cell_type": "code",
   "execution_count": 4,
   "metadata": {},
   "outputs": [
    {
     "name": "stderr",
     "output_type": "stream",
     "text": [
      "13856it [00:04, 3241.33it/s]\n"
     ]
    }
   ],
   "source": [
    "from pathlib import Path\n",
    "import json\n",
    "from tqdm.auto import tqdm\n",
    "\n",
    "data = [\n",
    "    json.loads(p.read_text())\n",
    "    for p in tqdm(\n",
    "        Path(\"../data/intermediate/2022-02-21-motif\").glob(\"**/metadata.json\")\n",
    "    )\n",
    "]"
   ]
  },
  {
   "cell_type": "code",
   "execution_count": 8,
   "metadata": {},
   "outputs": [
    {
     "name": "stdout",
     "output_type": "stream",
     "text": [
      "-RECORD 0-------------------------------------------------\n",
      " cens_sample_rate      | 10                               \n",
      " duration_cens         | 113                              \n",
      " duration_samples      | 244800                           \n",
      " duration_seconds      | 11.1                             \n",
      " matrix_profile_window | 50                               \n",
      " motif_0               | 61                               \n",
      " motif_1               | 26                               \n",
      " sample_rate           | 22050                            \n",
      " source_name           | train_audio/afrsil1/XC125458.ogg \n",
      "-RECORD 1-------------------------------------------------\n",
      " cens_sample_rate      | 10                               \n",
      " duration_cens         | 477                              \n",
      " duration_samples      | 1036800                          \n",
      " duration_seconds      | 47.02                            \n",
      " matrix_profile_window | 50                               \n",
      " motif_0               | 229                              \n",
      " motif_1               | 305                              \n",
      " sample_rate           | 22050                            \n",
      " source_name           | train_audio/afrsil1/XC175522.ogg \n",
      "only showing top 2 rows\n",
      "\n"
     ]
    }
   ],
   "source": [
    "df = spark.createDataFrame(data)\n",
    "df.show(vertical=True, n=2, truncate=80)"
   ]
  },
  {
   "cell_type": "code",
   "execution_count": 11,
   "metadata": {},
   "outputs": [
    {
     "data": {
      "text/plain": [
       "13856"
      ]
     },
     "execution_count": 11,
     "metadata": {},
     "output_type": "execute_result"
    }
   ],
   "source": [
    "df.count()"
   ]
  },
  {
   "cell_type": "code",
   "execution_count": 10,
   "metadata": {},
   "outputs": [
    {
     "data": {
      "text/plain": [
       "1202"
      ]
     },
     "execution_count": 10,
     "metadata": {},
     "output_type": "execute_result"
    }
   ],
   "source": [
    "df.where(\"motif_0 = motif_1\").count()"
   ]
  }
 ],
 "metadata": {
  "interpreter": {
   "hash": "41049156054574101fa2f03899789afedde2f669574f38e007c535191dd9fbab"
  },
  "kernelspec": {
   "display_name": "Python 3 (ipykernel)",
   "language": "python",
   "name": "python3"
  },
  "language_info": {
   "codemirror_mode": {
    "name": "ipython",
    "version": 3
   },
   "file_extension": ".py",
   "mimetype": "text/x-python",
   "name": "python",
   "nbconvert_exporter": "python",
   "pygments_lexer": "ipython3",
   "version": "3.8.9"
  }
 },
 "nbformat": 4,
 "nbformat_minor": 4
}
