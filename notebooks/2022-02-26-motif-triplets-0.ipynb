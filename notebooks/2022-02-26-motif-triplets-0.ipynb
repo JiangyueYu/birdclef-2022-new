{
 "cells": [
  {
   "cell_type": "markdown",
   "metadata": {},
   "source": [
    "# generating dataset of triples\n",
    "\n",
    "The purpose of this notebook is to generate triplets to create a dataset for\n",
    "training. It should contain a fairly large number of examples. Let's create 3\n",
    "dataset with 100k, 1m, and 10m rows. We'll train the unsupervised model against\n",
    "all three of these.\n",
    "\n",
    "We're going to be clever about how we sample from the motif dataset. We utilize\n",
    "the sampling method referenced in tile2vec. Neighbors are drawn from both within\n",
    "the same audio sample and within a species. The distant neighbor is drawn from\n",
    "from the entire dataset, using both a random motif, and an entirely random\n",
    "sample from across the dataset."
   ]
  },
  {
   "cell_type": "code",
   "execution_count": 1,
   "metadata": {},
   "outputs": [],
   "source": [
    "%load_ext autoreload\n",
    "%autoreload 2\n",
    "%load_ext lab_black"
   ]
  },
  {
   "cell_type": "code",
   "execution_count": 125,
   "metadata": {},
   "outputs": [
    {
     "name": "stdout",
     "output_type": "stream",
     "text": [
      "+--------------------+----------------+---------------------+-------+-------+-----------+-------------+----------------+----------------+\n",
      "|         source_name|cens_sample_rate|matrix_profile_window|motif_0|motif_1|sample_rate|duration_cens|duration_samples|duration_seconds|\n",
      "+--------------------+----------------+---------------------+-------+-------+-----------+-------------+----------------+----------------+\n",
      "|train_audio/comsa...|              10|                   50|  331.0|  386.0|      22050|          642|         1396030|           63.31|\n",
      "|train_audio/mitpa...|              10|                   50|  109.0|  135.0|      22050|          227|          493056|           22.36|\n",
      "|train_audio/gadwa...|              10|                   50|   79.0|   38.0|      22050|          596|         1294848|           58.72|\n",
      "|train_audio/bkbpl...|              10|                   50|    0.0|    0.0|      22050|           64|          138240|            6.27|\n",
      "|train_audio/gnwte...|              10|                   50|  770.0|  796.0|      22050|         1011|         2199157|           99.74|\n",
      "|train_audio/rinph...|              10|                   50|    0.0|    0.0|      22050|           53|          114049|            5.17|\n",
      "|train_audio/lesye...|              10|                   50|  118.0|   33.0|      22050|          168|          365184|           16.56|\n",
      "|train_audio/arcte...|              10|                   50|  243.0|   16.0|      22050|          295|          640332|           29.04|\n",
      "|train_audio/wesme...|              10|                   50|   94.0|  198.0|      22050|          368|          800151|           36.29|\n",
      "|train_audio/bcnhe...|              10|                   50|  174.0|   61.0|      22050|          224|          486144|           22.05|\n",
      "|train_audio/redav...|              10|                   50|   99.0|   60.0|      22050|          283|          615725|           27.92|\n",
      "|train_audio/bknst...|              10|                   50|  144.0|  170.0|      22050|          226|          490752|           22.26|\n",
      "|train_audio/comsa...|              10|                   50|    0.0|    0.0|      22050|           72|          156666|            7.11|\n",
      "|train_audio/gnwte...|              10|                   50|    0.0|   25.0|      22050|          256|          555837|           25.21|\n",
      "|train_audio/nutma...|              10|                   50|  251.0|  291.0|      22050|          389|          845568|           38.35|\n",
      "|train_audio/spodo...|              10|                   50|   82.0|  302.0|      22050|          583|         1268352|           57.52|\n",
      "|train_audio/comwa...|              10|                   50|   68.0|   12.0|      22050|          196|          425080|           19.28|\n",
      "|train_audio/gnwte...|              10|                   50|   64.0|    0.0|      22050|          248|          537985|            24.4|\n",
      "|train_audio/lobdo...|              10|                   50|   46.0|    4.0|      22050|          152|          330221|           14.98|\n",
      "|train_audio/japqu...|              10|                   50|   null|   null|      22050|           36|           76608|            3.47|\n",
      "+--------------------+----------------+---------------------+-------+-------+-----------+-------------+----------------+----------------+\n",
      "only showing top 20 rows\n",
      "\n"
     ]
    }
   ],
   "source": [
    "from pyspark.sql import SparkSession, functions as F\n",
    "import os\n",
    "import sys\n",
    "\n",
    "os.environ[\"PYSPARK_PYTHON\"] = sys.executable\n",
    "os.environ[\"PYSPARK_DRIVER_PYTHON\"] = sys.executable\n",
    "spark = SparkSession.builder.getOrCreate()\n",
    "spark\n",
    "\n",
    "df = (\n",
    "    spark.read.parquet(\"../data/intermediate/2022-02-26-motif-consolidated.parquet\")\n",
    "    .repartition(8)\n",
    "    .cache()\n",
    ")\n",
    "df.show()"
   ]
  },
  {
   "cell_type": "code",
   "execution_count": 16,
   "metadata": {},
   "outputs": [
    {
     "name": "stdout",
     "output_type": "stream",
     "text": [
      "+--------+---------------------------------------+\n",
      "|count(1)|sum((IF((duration_seconds < 5), 1, 0)))|\n",
      "+--------+---------------------------------------+\n",
      "|   14852|                                    996|\n",
      "+--------+---------------------------------------+\n",
      "\n"
     ]
    }
   ],
   "source": [
    "df.selectExpr(\"count(*)\", \"sum(if(duration_seconds < 5, 1, 0))\").show()"
   ]
  },
  {
   "cell_type": "code",
   "execution_count": 106,
   "metadata": {},
   "outputs": [
    {
     "name": "stdout",
     "output_type": "stream",
     "text": [
      "+-----------+--------+------------+--------------------+--------------------+----------------+--------------------+-------------+---------+\n",
      "|TAXON_ORDER|CATEGORY|SPECIES_CODE|    PRIMARY_COM_NAME|            SCI_NAME|          ORDER1|              FAMILY|SPECIES_GROUP|REPORT_AS|\n",
      "+-----------+--------+------------+--------------------+--------------------+----------------+--------------------+-------------+---------+\n",
      "|          1| species|     ostric2|      Common Ostrich|    Struthio camelus|Struthioniformes|Struthionidae (Os...|    Ostriches|     null|\n",
      "|          6| species|     ostric3|      Somali Ostrich|Struthio molybdop...|Struthioniformes|Struthionidae (Os...|         null|     null|\n",
      "|          7|   slash|      y00934|Common/Somali Ost...|Struthio camelus/...|Struthioniformes|Struthionidae (Os...|         null|     null|\n",
      "|          8| species|     grerhe1|        Greater Rhea|      Rhea americana|      Rheiformes|     Rheidae (Rheas)|        Rheas|     null|\n",
      "|         14| species|     lesrhe2|         Lesser Rhea|        Rhea pennata|      Rheiformes|     Rheidae (Rheas)|         null|     null|\n",
      "|         15|    issf|     lesrhe4|  Lesser Rhea (Puna)|Rhea pennata tara...|      Rheiformes|     Rheidae (Rheas)|         null|  lesrhe2|\n",
      "|         18|    issf|     lesrhe3|Lesser Rhea (Darw...|Rhea pennata pennata|      Rheiformes|     Rheidae (Rheas)|         null|  lesrhe2|\n",
      "|         19| species|     tabtin1|Tawny-breasted Ti...|  Nothocercus julius|    Tinamiformes|Tinamidae (Tinamous)|     Tinamous|     null|\n",
      "|         20| species|     higtin1|    Highland Tinamou|Nothocercus bonap...|    Tinamiformes|Tinamidae (Tinamous)|         null|     null|\n",
      "|         21|    issf|     higtin2|Highland Tinamou ...|Nothocercus bonap...|    Tinamiformes|Tinamidae (Tinamous)|         null|  higtin1|\n",
      "|         26|    issf|     higtin3|Highland Tinamou ...|Nothocercus bonap...|    Tinamiformes|Tinamidae (Tinamous)|         null|  higtin1|\n",
      "|         27| species|     hootin1|      Hooded Tinamou|Nothocercus nigro...|    Tinamiformes|Tinamidae (Tinamous)|         null|     null|\n",
      "|         30| species|     grytin1|        Gray Tinamou|         Tinamus tao|    Tinamiformes|Tinamidae (Tinamous)|         null|     null|\n",
      "|         35| species|     soltin1|    Solitary Tinamou|  Tinamus solitarius|    Tinamiformes|Tinamidae (Tinamous)|         null|     null|\n",
      "|         36| species|     blatin1|       Black Tinamou|     Tinamus osgoodi|    Tinamiformes|Tinamidae (Tinamous)|         null|     null|\n",
      "|         39| species|     gretin1|       Great Tinamou|       Tinamus major|    Tinamiformes|Tinamidae (Tinamous)|         null|     null|\n",
      "|         52| species|     whttin1|White-throated Ti...|    Tinamus guttatus|    Tinamiformes|Tinamidae (Tinamous)|         null|     null|\n",
      "|         53|    spuh|     tinamu1|         Tinamus sp.|         Tinamus sp.|    Tinamiformes|Tinamidae (Tinamous)|         null|     null|\n",
      "|         54| species|     cintin1|   Cinereous Tinamou|Crypturellus cine...|    Tinamiformes|Tinamidae (Tinamous)|         null|     null|\n",
      "|         55| species|     bertin1| Berlepsch's Tinamou|Crypturellus berl...|    Tinamiformes|Tinamidae (Tinamous)|         null|     null|\n",
      "+-----------+--------+------------+--------------------+--------------------+----------------+--------------------+-------------+---------+\n",
      "only showing top 20 rows\n",
      "\n"
     ]
    }
   ],
   "source": [
    "taxa = spark.read.csv(\"../data/raw/birdclef-2022/eBird_Taxonomy_v2021.csv\", header=True)\n",
    "taxa.show()"
   ]
  },
  {
   "cell_type": "code",
   "execution_count": 159,
   "metadata": {},
   "outputs": [
    {
     "name": "stdout",
     "output_type": "stream",
     "text": [
      "+--------------------+-----+\n",
      "|              FAMILY|count|\n",
      "+--------------------+-----+\n",
      "|Formicariidae (An...|   17|\n",
      "|Ramphastidae (Tou...|   74|\n",
      "|Oxyruncidae (Shar...|   18|\n",
      "|Acanthizidae (Tho...|   78|\n",
      "|Phalacrocoracidae...|   60|\n",
      "|Acanthisittidae (...|    4|\n",
      "|Stenostiridae (Fa...|   11|\n",
      "|Icteridae (Troupi...|  177|\n",
      "|Neosittidae (Sitt...|    8|\n",
      "|Nicatoridae (Nica...|    4|\n",
      "|Polioptilidae (Gn...|   37|\n",
      "|    Todidae (Todies)|    6|\n",
      "|Oreoicidae (Austr...|    3|\n",
      "|Aegithinidae (Ioras)|    5|\n",
      "|    Gruidae (Cranes)|   25|\n",
      "|Pomatostomidae (P...|    6|\n",
      "|Thinocoridae (See...|    4|\n",
      "|Corvidae (Crows, ...|  205|\n",
      "|Anseranatidae (Ma...|    1|\n",
      "|Pachycephalidae (...|   85|\n",
      "+--------------------+-----+\n",
      "only showing top 20 rows\n",
      "\n"
     ]
    }
   ],
   "source": [
    "taxa.groupBy(\"FAMILY\").count().show()"
   ]
  },
  {
   "cell_type": "code",
   "execution_count": 126,
   "metadata": {},
   "outputs": [],
   "source": [
    "df = df.withColumn(\"species\", F.split(\"source_name\", \"/\")[1]).join(\n",
    "    taxa.selectExpr(\"SPECIES_CODE as species\", \"FAMILY as family\"),\n",
    "    on=\"species\",\n",
    "    how=\"left\",\n",
    ")"
   ]
  },
  {
   "cell_type": "code",
   "execution_count": 161,
   "metadata": {},
   "outputs": [
    {
     "data": {
      "text/plain": [
       "0"
      ]
     },
     "execution_count": 161,
     "metadata": {},
     "output_type": "execute_result"
    }
   ],
   "source": [
    "df.where(\"family is null\").count()"
   ]
  },
  {
   "cell_type": "code",
   "execution_count": 163,
   "metadata": {},
   "outputs": [
    {
     "name": "stdout",
     "output_type": "stream",
     "text": [
      "+----------------------------------------------+-----+\n",
      "|family                                        |count|\n",
      "+----------------------------------------------+-----+\n",
      "|Diomedeidae (Albatrosses)                     |3    |\n",
      "|Monarchidae (Monarch Flycatchers)             |14   |\n",
      "|Pteroclidae (Sandgrouse)                      |16   |\n",
      "|Fregatidae (Frigatebirds)                     |17   |\n",
      "|Hydrobatidae (Northern Storm-Petrels)         |28   |\n",
      "|Accipitridae (Hawks, Eagles, and Kites)       |34   |\n",
      "|Threskiornithidae (Ibises and Spoonbills)     |45   |\n",
      "|Phaethontidae (Tropicbirds)                   |55   |\n",
      "|Zosteropidae (White-eyes, Yuhinas, and Allies)|71   |\n",
      "|Scotocercidae (Bush Warblers and Allies)      |78   |\n",
      "+----------------------------------------------+-----+\n",
      "only showing top 10 rows\n",
      "\n"
     ]
    }
   ],
   "source": [
    "freq_df = df.groupby(\"family\").count().orderBy(\"count\")\n",
    "freq_df.show(truncate=False, n=10)"
   ]
  },
  {
   "cell_type": "code",
   "execution_count": 164,
   "metadata": {},
   "outputs": [
    {
     "data": {
      "image/png": "[encoded data removed]",
      "text/plain": [
       "<Figure size 432x288 with 1 Axes>"
      ]
     },
     "metadata": {
      "needs_background": "light"
     },
     "output_type": "display_data"
    }
   ],
   "source": [
    "import matplotlib.pyplot as plt\n",
    "\n",
    "pdf = freq_df.toPandas()\n",
    "plt.hist(pdf[\"count\"])\n",
    "plt.show()"
   ]
  },
  {
   "cell_type": "code",
   "execution_count": 165,
   "metadata": {},
   "outputs": [
    {
     "name": "stdout",
     "output_type": "stream",
     "text": [
      "+-----------------------+----------------------+\n",
      "|count(DISTINCT species)|count(DISTINCT family)|\n",
      "+-----------------------+----------------------+\n",
      "|                    152|                    41|\n",
      "+-----------------------+----------------------+\n",
      "\n"
     ]
    }
   ],
   "source": [
    "df.select(F.countDistinct(\"species\"), F.countDistinct(\"family\")).show()"
   ]
  },
  {
   "cell_type": "code",
   "execution_count": 166,
   "metadata": {},
   "outputs": [
    {
     "data": {
      "text/plain": [
       "{'Diomedeidae (Albatrosses)': 0.4205465230036502,\n",
       " 'Monarchidae (Monarch Flycatchers)': 0.09011711207221076,\n",
       " 'Pteroclidae (Sandgrouse)': 0.07885247306318441,\n",
       " 'Fregatidae (Frigatebirds)': 0.0742140922947618,\n",
       " 'Hydrobatidae (Northern Storm-Petrels)': 0.04505855603610538,\n",
       " 'Accipitridae (Hawks, Eagles, and Kites)': 0.0371070461473809,\n",
       " 'Threskiornithidae (Ibises and Spoonbills)': 0.02803643486691001,\n",
       " 'Phaethontidae (Tropicbirds)': 0.022938901254744556,\n",
       " 'Zosteropidae (White-eyes, Yuhinas, and Allies)': 0.017769571394520428,\n",
       " 'Scotocercidae (Bush Warblers and Allies)': 0.01617486626937116,\n",
       " 'Sulidae (Boobies and Gannets)': 0.01577049461263688,\n",
       " 'Procellariidae (Shearwaters and Petrels)': 0.01484281845895236,\n",
       " 'Alcedinidae (Kingfishers)': 0.012616395690109507,\n",
       " 'Psittacidae (New World and African Parrots)': 0.010691860754330089,\n",
       " 'Stercorariidae (Skuas and Jaegers)': 0.010602013184965972,\n",
       " 'Turdidae (Thrushes and Allies)': 0.010093116552087604,\n",
       " 'Strigidae (Owls)': 0.009856559132898051,\n",
       " 'Podicipedidae (Grebes)': 0.0077878985741416705,\n",
       " 'Recurvirostridae (Stilts and Avocets)': 0.0070482657486645285,\n",
       " 'Sturnidae (Starlings)': 0.006065574851014186,\n",
       " 'Thraupidae (Tanagers and Allies)': 0.005923190464840144,\n",
       " 'Pandionidae (Osprey)': 0.005533506881626977,\n",
       " 'Odontophoridae (New World Quail)': 0.00521338664880558,\n",
       " 'Falconidae (Falcons and Caracaras)': 0.004852459880811347,\n",
       " 'Estrildidae (Waxbills and Allies)': 0.003754879669675448,\n",
       " 'Rallidae (Rails, Gallinules, and Coots)': 0.003721650646050002,\n",
       " 'Icteridae (Troupials and Allies)': 0.0036782494723351326,\n",
       " 'Psittaculidae (Old World Parrots)': 0.003615013091721921,\n",
       " 'Mimidae (Mockingbirds and Thrashers)': 0.003260050565919769,\n",
       " 'Charadriidae (Plovers and Lapwings)': 0.003146233339179428,\n",
       " 'Columbidae (Pigeons and Doves)': 0.0025539262530586042,\n",
       " 'Passeridae (Old World Sparrows)': 0.002523279138021901,\n",
       " 'Alaudidae (Larks)': 0.002523279138021901,\n",
       " 'Tytonidae (Barn-Owls)': 0.002523279138021901,\n",
       " 'Cardinalidae (Cardinals and Allies)': 0.002523279138021901,\n",
       " 'Fringillidae (Finches, Euphonias, and Allies)': 0.0021132991105711064,\n",
       " 'Phasianidae (Pheasants, Grouse, and Allies)': 0.0019144758255097887,\n",
       " 'Ardeidae (Herons, Egrets, and Bitterns)': 0.0018472028828857255,\n",
       " 'Laridae (Gulls, Terns, and Skimmers)': 0.0015055364785333538,\n",
       " 'Scolopacidae (Sandpipers and Allies)': 0.0006401012526691783,\n",
       " 'Anatidae (Ducks, Geese, and Waterfowl)': 0.00044314702107866195}"
      ]
     },
     "execution_count": 166,
     "metadata": {},
     "output_type": "execute_result"
    }
   ],
   "source": [
    "total = df.count()\n",
    "freq = {r.family: 1 / (r[\"count\"] / total) for r in freq_df.collect()}\n",
    "sum_inverse = sum(freq.values())\n",
    "freq = {k: v / sum_inverse for k, v in freq.items()}\n",
    "freq"
   ]
  },
  {
   "cell_type": "code",
   "execution_count": 167,
   "metadata": {},
   "outputs": [
    {
     "name": "stdout",
     "output_type": "stream",
     "text": [
      "2\n"
     ]
    }
   ],
   "source": [
    "mu = int(1 / max(freq.values()))\n",
    "print(mu)\n",
    "max_freq = {k: v * mu for k, v in freq.items()}"
   ]
  },
  {
   "cell_type": "code",
   "execution_count": 168,
   "metadata": {},
   "outputs": [
    {
     "name": "stdout",
     "output_type": "stream",
     "text": [
      "+--------------------+-----+\n",
      "|              family|count|\n",
      "+--------------------+-----+\n",
      "|Icteridae (Troupi...|    4|\n",
      "|Fregatidae (Friga...|    4|\n",
      "|Charadriidae (Plo...|    3|\n",
      "|Columbidae (Pigeo...|    3|\n",
      "|Odontophoridae (N...|    2|\n",
      "|Phasianidae (Phea...|    3|\n",
      "|Tytonidae (Barn-O...|    8|\n",
      "|Psittacidae (New ...|    2|\n",
      "|Thraupidae (Tanag...|    3|\n",
      "|Cardinalidae (Car...|    5|\n",
      "+--------------------+-----+\n",
      "only showing top 10 rows\n",
      "\n"
     ]
    },
    {
     "data": {
      "text/plain": [
       "91"
      ]
     },
     "execution_count": 168,
     "metadata": {},
     "output_type": "execute_result"
    }
   ],
   "source": [
    "sampled = df.sampleBy(\"family\", fractions=max_freq)\n",
    "sampled.groupby(\"family\").count().show(n=10)\n",
    "sampled.count()"
   ]
  },
  {
   "cell_type": "code",
   "execution_count": 171,
   "metadata": {},
   "outputs": [
    {
     "name": "stdout",
     "output_type": "stream",
     "text": [
      "sample size 105\n"
     ]
    },
    {
     "name": "stderr",
     "output_type": "stream",
     "text": [
      "ERROR:root:KeyboardInterrupt while sending command.\n",
      "Traceback (most recent call last):\n",
      "  File \"F:\\kaggle\\birdclef-2022\\venv\\lib\\site-packages\\py4j\\java_gateway.py\", line 1038, in send_command\n",
      "    response = connection.send_command(command)\n",
      "  File \"F:\\kaggle\\birdclef-2022\\venv\\lib\\site-packages\\py4j\\clientserver.py\", line 475, in send_command\n",
      "    answer = smart_decode(self.stream.readline()[:-1])\n",
      "  File \"C:\\Users\\acmiy\\AppData\\Local\\Programs\\Python\\Python38\\lib\\socket.py\", line 669, in readinto\n",
      "    return self._sock.recv_into(b)\n",
      "KeyboardInterrupt\n"
     ]
    },
    {
     "ename": "KeyboardInterrupt",
     "evalue": "",
     "output_type": "error",
     "traceback": [
      "\u001b[1;31m---------------------------------------------------------------------------\u001b[0m",
      "\u001b[1;31mKeyboardInterrupt\u001b[0m                         Traceback (most recent call last)",
      "Input \u001b[1;32mIn [171]\u001b[0m, in \u001b[0;36m<module>\u001b[1;34m\u001b[0m\n\u001b[0;32m     12\u001b[0m \u001b[38;5;66;03m# then we union this many together, in order to get roughly our dataset size.\u001b[39;00m\n\u001b[0;32m     13\u001b[0m \u001b[38;5;66;03m# Note that we try to increase the sample size for the fraction of items to\u001b[39;00m\n\u001b[0;32m     14\u001b[0m \u001b[38;5;66;03m# samples as close to 1 as we can, so we can reduce the number of times that we\u001b[39;00m\n\u001b[0;32m     15\u001b[0m \u001b[38;5;66;03m# sample things\u001b[39;00m\n\u001b[0;32m     16\u001b[0m \u001b[38;5;28mprint\u001b[39m(\u001b[38;5;124m\"\u001b[39m\u001b[38;5;124msample size\u001b[39m\u001b[38;5;124m\"\u001b[39m, est_size)\n\u001b[0;32m     18\u001b[0m stratified_motif_df \u001b[38;5;241m=\u001b[39m (\n\u001b[0;32m     19\u001b[0m     functools\u001b[38;5;241m.\u001b[39mreduce(\n\u001b[0;32m     20\u001b[0m         \u001b[38;5;28;01mlambda\u001b[39;00m x, y: x\u001b[38;5;241m.\u001b[39munion(y),\n\u001b[1;32m---> 21\u001b[0m         [\n\u001b[0;32m     22\u001b[0m             df\u001b[38;5;241m.\u001b[39msampleBy(\u001b[38;5;124m\"\u001b[39m\u001b[38;5;124mfamily\u001b[39m\u001b[38;5;124m\"\u001b[39m, fractions\u001b[38;5;241m=\u001b[39mmax_freq)\u001b[38;5;241m.\u001b[39mselect(\u001b[38;5;124m\"\u001b[39m\u001b[38;5;124msource_name\u001b[39m\u001b[38;5;124m\"\u001b[39m, \u001b[38;5;124m\"\u001b[39m\u001b[38;5;124mfamily\u001b[39m\u001b[38;5;124m\"\u001b[39m, \u001b[38;5;124m\"\u001b[39m\u001b[38;5;124mmotif_0\u001b[39m\u001b[38;5;124m\"\u001b[39m, \u001b[38;5;124m\"\u001b[39m\u001b[38;5;124mmotif_1\u001b[39m\u001b[38;5;124m\"\u001b[39m)\n\u001b[0;32m     23\u001b[0m             \u001b[38;5;28;01mfor\u001b[39;00m i \u001b[38;5;129;01min\u001b[39;00m \u001b[38;5;28mrange\u001b[39m(n_samples \u001b[38;5;241m/\u001b[39m\u001b[38;5;241m/\u001b[39m est_size \u001b[38;5;241m/\u001b[39m\u001b[38;5;241m/\u001b[39m \u001b[38;5;241m2\u001b[39m)\n\u001b[0;32m     24\u001b[0m         ],\n\u001b[0;32m     25\u001b[0m     )\n\u001b[0;32m     26\u001b[0m     \u001b[38;5;241m.\u001b[39mrepartition(\u001b[38;5;241m8\u001b[39m)\n\u001b[0;32m     27\u001b[0m     \u001b[38;5;241m.\u001b[39mcache()\n\u001b[0;32m     28\u001b[0m )\n\u001b[0;32m     30\u001b[0m stratified_motif_df\u001b[38;5;241m.\u001b[39mshow()\n",
      "Input \u001b[1;32mIn [171]\u001b[0m, in \u001b[0;36m<listcomp>\u001b[1;34m(.0)\u001b[0m\n\u001b[0;32m     12\u001b[0m \u001b[38;5;66;03m# then we union this many together, in order to get roughly our dataset size.\u001b[39;00m\n\u001b[0;32m     13\u001b[0m \u001b[38;5;66;03m# Note that we try to increase the sample size for the fraction of items to\u001b[39;00m\n\u001b[0;32m     14\u001b[0m \u001b[38;5;66;03m# samples as close to 1 as we can, so we can reduce the number of times that we\u001b[39;00m\n\u001b[0;32m     15\u001b[0m \u001b[38;5;66;03m# sample things\u001b[39;00m\n\u001b[0;32m     16\u001b[0m \u001b[38;5;28mprint\u001b[39m(\u001b[38;5;124m\"\u001b[39m\u001b[38;5;124msample size\u001b[39m\u001b[38;5;124m\"\u001b[39m, est_size)\n\u001b[0;32m     18\u001b[0m stratified_motif_df \u001b[38;5;241m=\u001b[39m (\n\u001b[0;32m     19\u001b[0m     functools\u001b[38;5;241m.\u001b[39mreduce(\n\u001b[0;32m     20\u001b[0m         \u001b[38;5;28;01mlambda\u001b[39;00m x, y: x\u001b[38;5;241m.\u001b[39munion(y),\n\u001b[0;32m     21\u001b[0m         [\n\u001b[1;32m---> 22\u001b[0m             \u001b[43mdf\u001b[49m\u001b[38;5;241;43m.\u001b[39;49m\u001b[43msampleBy\u001b[49m\u001b[43m(\u001b[49m\u001b[38;5;124;43m\"\u001b[39;49m\u001b[38;5;124;43mfamily\u001b[39;49m\u001b[38;5;124;43m\"\u001b[39;49m\u001b[43m,\u001b[49m\u001b[43m \u001b[49m\u001b[43mfractions\u001b[49m\u001b[38;5;241;43m=\u001b[39;49m\u001b[43mmax_freq\u001b[49m\u001b[43m)\u001b[49m\u001b[38;5;241m.\u001b[39mselect(\u001b[38;5;124m\"\u001b[39m\u001b[38;5;124msource_name\u001b[39m\u001b[38;5;124m\"\u001b[39m, \u001b[38;5;124m\"\u001b[39m\u001b[38;5;124mfamily\u001b[39m\u001b[38;5;124m\"\u001b[39m, \u001b[38;5;124m\"\u001b[39m\u001b[38;5;124mmotif_0\u001b[39m\u001b[38;5;124m\"\u001b[39m, \u001b[38;5;124m\"\u001b[39m\u001b[38;5;124mmotif_1\u001b[39m\u001b[38;5;124m\"\u001b[39m)\n\u001b[0;32m     23\u001b[0m             \u001b[38;5;28;01mfor\u001b[39;00m i \u001b[38;5;129;01min\u001b[39;00m \u001b[38;5;28mrange\u001b[39m(n_samples \u001b[38;5;241m/\u001b[39m\u001b[38;5;241m/\u001b[39m est_size \u001b[38;5;241m/\u001b[39m\u001b[38;5;241m/\u001b[39m \u001b[38;5;241m2\u001b[39m)\n\u001b[0;32m     24\u001b[0m         ],\n\u001b[0;32m     25\u001b[0m     )\n\u001b[0;32m     26\u001b[0m     \u001b[38;5;241m.\u001b[39mrepartition(\u001b[38;5;241m8\u001b[39m)\n\u001b[0;32m     27\u001b[0m     \u001b[38;5;241m.\u001b[39mcache()\n\u001b[0;32m     28\u001b[0m )\n\u001b[0;32m     30\u001b[0m stratified_motif_df\u001b[38;5;241m.\u001b[39mshow()\n",
      "File \u001b[1;32mF:\\kaggle\\birdclef-2022\\venv\\lib\\site-packages\\pyspark\\sql\\dataframe.py:1160\u001b[0m, in \u001b[0;36mDataFrame.sampleBy\u001b[1;34m(self, col, fractions, seed)\u001b[0m\n\u001b[0;32m   1158\u001b[0m col \u001b[38;5;241m=\u001b[39m col\u001b[38;5;241m.\u001b[39m_jc\n\u001b[0;32m   1159\u001b[0m seed \u001b[38;5;241m=\u001b[39m seed \u001b[38;5;28;01mif\u001b[39;00m seed \u001b[38;5;129;01mis\u001b[39;00m \u001b[38;5;129;01mnot\u001b[39;00m \u001b[38;5;28;01mNone\u001b[39;00m \u001b[38;5;28;01melse\u001b[39;00m random\u001b[38;5;241m.\u001b[39mrandint(\u001b[38;5;241m0\u001b[39m, sys\u001b[38;5;241m.\u001b[39mmaxsize)\n\u001b[1;32m-> 1160\u001b[0m \u001b[38;5;28;01mreturn\u001b[39;00m DataFrame(\u001b[38;5;28;43mself\u001b[39;49m\u001b[38;5;241;43m.\u001b[39;49m\u001b[43m_jdf\u001b[49m\u001b[38;5;241;43m.\u001b[39;49m\u001b[43mstat\u001b[49m\u001b[43m(\u001b[49m\u001b[43m)\u001b[49m\u001b[38;5;241m.\u001b[39msampleBy(col, \u001b[38;5;28mself\u001b[39m\u001b[38;5;241m.\u001b[39m_jmap(fractions), seed), \u001b[38;5;28mself\u001b[39m\u001b[38;5;241m.\u001b[39msql_ctx)\n",
      "File \u001b[1;32mF:\\kaggle\\birdclef-2022\\venv\\lib\\site-packages\\py4j\\java_gateway.py:1320\u001b[0m, in \u001b[0;36mJavaMember.__call__\u001b[1;34m(self, *args)\u001b[0m\n\u001b[0;32m   1313\u001b[0m args_command, temp_args \u001b[38;5;241m=\u001b[39m \u001b[38;5;28mself\u001b[39m\u001b[38;5;241m.\u001b[39m_build_args(\u001b[38;5;241m*\u001b[39margs)\n\u001b[0;32m   1315\u001b[0m command \u001b[38;5;241m=\u001b[39m proto\u001b[38;5;241m.\u001b[39mCALL_COMMAND_NAME \u001b[38;5;241m+\u001b[39m\\\n\u001b[0;32m   1316\u001b[0m     \u001b[38;5;28mself\u001b[39m\u001b[38;5;241m.\u001b[39mcommand_header \u001b[38;5;241m+\u001b[39m\\\n\u001b[0;32m   1317\u001b[0m     args_command \u001b[38;5;241m+\u001b[39m\\\n\u001b[0;32m   1318\u001b[0m     proto\u001b[38;5;241m.\u001b[39mEND_COMMAND_PART\n\u001b[1;32m-> 1320\u001b[0m answer \u001b[38;5;241m=\u001b[39m \u001b[38;5;28;43mself\u001b[39;49m\u001b[38;5;241;43m.\u001b[39;49m\u001b[43mgateway_client\u001b[49m\u001b[38;5;241;43m.\u001b[39;49m\u001b[43msend_command\u001b[49m\u001b[43m(\u001b[49m\u001b[43mcommand\u001b[49m\u001b[43m)\u001b[49m\n\u001b[0;32m   1321\u001b[0m return_value \u001b[38;5;241m=\u001b[39m get_return_value(\n\u001b[0;32m   1322\u001b[0m     answer, \u001b[38;5;28mself\u001b[39m\u001b[38;5;241m.\u001b[39mgateway_client, \u001b[38;5;28mself\u001b[39m\u001b[38;5;241m.\u001b[39mtarget_id, \u001b[38;5;28mself\u001b[39m\u001b[38;5;241m.\u001b[39mname)\n\u001b[0;32m   1324\u001b[0m \u001b[38;5;28;01mfor\u001b[39;00m temp_arg \u001b[38;5;129;01min\u001b[39;00m temp_args:\n",
      "File \u001b[1;32mF:\\kaggle\\birdclef-2022\\venv\\lib\\site-packages\\py4j\\java_gateway.py:1038\u001b[0m, in \u001b[0;36mGatewayClient.send_command\u001b[1;34m(self, command, retry, binary)\u001b[0m\n\u001b[0;32m   1036\u001b[0m connection \u001b[38;5;241m=\u001b[39m \u001b[38;5;28mself\u001b[39m\u001b[38;5;241m.\u001b[39m_get_connection()\n\u001b[0;32m   1037\u001b[0m \u001b[38;5;28;01mtry\u001b[39;00m:\n\u001b[1;32m-> 1038\u001b[0m     response \u001b[38;5;241m=\u001b[39m \u001b[43mconnection\u001b[49m\u001b[38;5;241;43m.\u001b[39;49m\u001b[43msend_command\u001b[49m\u001b[43m(\u001b[49m\u001b[43mcommand\u001b[49m\u001b[43m)\u001b[49m\n\u001b[0;32m   1039\u001b[0m     \u001b[38;5;28;01mif\u001b[39;00m binary:\n\u001b[0;32m   1040\u001b[0m         \u001b[38;5;28;01mreturn\u001b[39;00m response, \u001b[38;5;28mself\u001b[39m\u001b[38;5;241m.\u001b[39m_create_connection_guard(connection)\n",
      "File \u001b[1;32mF:\\kaggle\\birdclef-2022\\venv\\lib\\site-packages\\py4j\\clientserver.py:475\u001b[0m, in \u001b[0;36mClientServerConnection.send_command\u001b[1;34m(self, command)\u001b[0m\n\u001b[0;32m    473\u001b[0m \u001b[38;5;28;01mtry\u001b[39;00m:\n\u001b[0;32m    474\u001b[0m     \u001b[38;5;28;01mwhile\u001b[39;00m \u001b[38;5;28;01mTrue\u001b[39;00m:\n\u001b[1;32m--> 475\u001b[0m         answer \u001b[38;5;241m=\u001b[39m smart_decode(\u001b[38;5;28;43mself\u001b[39;49m\u001b[38;5;241;43m.\u001b[39;49m\u001b[43mstream\u001b[49m\u001b[38;5;241;43m.\u001b[39;49m\u001b[43mreadline\u001b[49m\u001b[43m(\u001b[49m\u001b[43m)\u001b[49m[:\u001b[38;5;241m-\u001b[39m\u001b[38;5;241m1\u001b[39m])\n\u001b[0;32m    476\u001b[0m         logger\u001b[38;5;241m.\u001b[39mdebug(\u001b[38;5;124m\"\u001b[39m\u001b[38;5;124mAnswer received: \u001b[39m\u001b[38;5;132;01m{0}\u001b[39;00m\u001b[38;5;124m\"\u001b[39m\u001b[38;5;241m.\u001b[39mformat(answer))\n\u001b[0;32m    477\u001b[0m         \u001b[38;5;66;03m# Happens when a the other end is dead. There might be an empty\u001b[39;00m\n\u001b[0;32m    478\u001b[0m         \u001b[38;5;66;03m# answer before the socket raises an error.\u001b[39;00m\n",
      "File \u001b[1;32m~\\AppData\\Local\\Programs\\Python\\Python38\\lib\\socket.py:669\u001b[0m, in \u001b[0;36mSocketIO.readinto\u001b[1;34m(self, b)\u001b[0m\n\u001b[0;32m    667\u001b[0m \u001b[38;5;28;01mwhile\u001b[39;00m \u001b[38;5;28;01mTrue\u001b[39;00m:\n\u001b[0;32m    668\u001b[0m     \u001b[38;5;28;01mtry\u001b[39;00m:\n\u001b[1;32m--> 669\u001b[0m         \u001b[38;5;28;01mreturn\u001b[39;00m \u001b[38;5;28;43mself\u001b[39;49m\u001b[38;5;241;43m.\u001b[39;49m\u001b[43m_sock\u001b[49m\u001b[38;5;241;43m.\u001b[39;49m\u001b[43mrecv_into\u001b[49m\u001b[43m(\u001b[49m\u001b[43mb\u001b[49m\u001b[43m)\u001b[49m\n\u001b[0;32m    670\u001b[0m     \u001b[38;5;28;01mexcept\u001b[39;00m timeout:\n\u001b[0;32m    671\u001b[0m         \u001b[38;5;28mself\u001b[39m\u001b[38;5;241m.\u001b[39m_timeout_occurred \u001b[38;5;241m=\u001b[39m \u001b[38;5;28;01mTrue\u001b[39;00m\n",
      "\u001b[1;31mKeyboardInterrupt\u001b[0m: "
     ]
    }
   ],
   "source": [
    "import functools\n",
    "\n",
    "n_samples = int(1e6)\n",
    "\n",
    "# we generate two sets of dataset, and then union them at the end first generate\n",
    "# the same of completely random samples. This will comprise of half our distant\n",
    "# data. The other half will comprise of random samples from motifs. We will\n",
    "# always choose to use stratified sampling in order to represent all species\n",
    "# equally.\n",
    "\n",
    "est_size = df.sampleBy(\"family\", fractions=max_freq).count()\n",
    "# then we union this many together, in order to get roughly our dataset size.\n",
    "# Note that we try to increase the sample size for the fraction of items to\n",
    "# samples as close to 1 as we can, so we can reduce the number of times that we\n",
    "# sample things\n",
    "print(\"sample size\", est_size)\n",
    "\n",
    "stratified_motif_df = (\n",
    "    functools.reduce(\n",
    "        lambda x, y: x.union(y),\n",
    "        [\n",
    "            df.sampleBy(\"family\", fractions=max_freq).select(\n",
    "                \"source_name\", \"family\", \"motif_0\", \"motif_1\"\n",
    "            )\n",
    "            for i in range(n_samples // est_size // 2)\n",
    "        ],\n",
    "    )\n",
    "    .repartition(8)\n",
    "    .cache()\n",
    ")\n",
    "\n",
    "stratified_motif_df.show()"
   ]
  },
  {
   "cell_type": "code",
   "execution_count": 96,
   "metadata": {},
   "outputs": [
    {
     "data": {
      "text/plain": [
       "497752"
      ]
     },
     "execution_count": 96,
     "metadata": {},
     "output_type": "execute_result"
    }
   ],
   "source": [
    "stratified_motif_df.count()"
   ]
  },
  {
   "cell_type": "code",
   "execution_count": 99,
   "metadata": {},
   "outputs": [
    {
     "name": "stdout",
     "output_type": "stream",
     "text": [
      "+-------+-----+\n",
      "|species|count|\n",
      "+-------+-----+\n",
      "| houspa|31767|\n",
      "| skylar|31764|\n",
      "|mallar3|31743|\n",
      "| brnowl|31722|\n",
      "| comsan|31716|\n",
      "| norcar|31691|\n",
      "| dunlin|28707|\n",
      "| gnwtea|27280|\n",
      "| bcnher|27113|\n",
      "| normoc|18954|\n",
      "| wesmea|14995|\n",
      "| eurwig|14625|\n",
      "| houfin|13144|\n",
      "| cangoo|12756|\n",
      "| rorpar|12250|\n",
      "| gwfgoo| 9426|\n",
      "| bkbplo| 9356|\n",
      "| rinphe| 7918|\n",
      "| gadwal| 7284|\n",
      "| osprey| 6673|\n",
      "+-------+-----+\n",
      "only showing top 20 rows\n",
      "\n"
     ]
    }
   ],
   "source": [
    "stratified_motif_df.groupby(\"species\").count().orderBy(F.desc(\"count\")).show()"
   ]
  },
  {
   "cell_type": "code",
   "execution_count": 97,
   "metadata": {},
   "outputs": [
    {
     "data": {
      "image/png": "[encoded data removed]",
      "text/plain": [
       "<Figure size 432x288 with 1 Axes>"
      ]
     },
     "metadata": {
      "needs_background": "light"
     },
     "output_type": "display_data"
    }
   ],
   "source": [
    "pdf = stratified_motif_df.groupby(\"species\").count().toPandas()\n",
    "plt.hist(pdf[\"count\"])\n",
    "plt.show()"
   ]
  }
 ],
 "metadata": {
  "interpreter": {
   "hash": "41049156054574101fa2f03899789afedde2f669574f38e007c535191dd9fbab"
  },
  "kernelspec": {
   "display_name": "Python 3.8.9 64-bit ('venv': venv)",
   "language": "python",
   "name": "python3"
  },
  "language_info": {
   "codemirror_mode": {
    "name": "ipython",
    "version": 3
   },
   "file_extension": ".py",
   "mimetype": "text/x-python",
   "name": "python",
   "nbconvert_exporter": "python",
   "pygments_lexer": "ipython3",
   "version": "3.8.9"
  },
  "orig_nbformat": 4
 },
 "nbformat": 4,
 "nbformat_minor": 2
}
