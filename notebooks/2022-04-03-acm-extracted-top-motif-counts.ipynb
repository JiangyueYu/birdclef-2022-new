{
 "cells": [
  {
   "cell_type": "code",
   "execution_count": 1,
   "metadata": {},
   "outputs": [],
   "source": [
    "%load_ext lab_black"
   ]
  },
  {
   "cell_type": "code",
   "execution_count": 5,
   "metadata": {},
   "outputs": [
    {
     "data": {
      "text/plain": [
       "6881"
      ]
     },
     "execution_count": 5,
     "metadata": {},
     "output_type": "execute_result"
    }
   ],
   "source": [
    "from pathlib import Path\n",
    "from collections import Counter\n",
    "\n",
    "paths = list(Path(\"../data/intermediate/2022-04-03-extracted-top-motif\").glob(\"*/*\"))\n",
    "len(paths)"
   ]
  },
  {
   "cell_type": "code",
   "execution_count": 10,
   "metadata": {},
   "outputs": [
    {
     "data": {
      "text/plain": [
       "[('maupar', 6),\n",
       " ('crehon', 11),\n",
       " ('puaioh', 13),\n",
       " ('hawhaw', 14),\n",
       " ('hawpet1', 17),\n",
       " ('ercfra', 24),\n",
       " ('hawgoo', 54),\n",
       " ('aniani', 64),\n",
       " ('akiapo', 73),\n",
       " ('barpet', 74),\n",
       " ('elepai', 75),\n",
       " ('hawama', 103),\n",
       " ('hawcre', 111),\n",
       " ('omao', 111),\n",
       " ('iiwi', 197),\n",
       " ('apapan', 268),\n",
       " ('warwhe1', 373),\n",
       " ('yefcan', 375),\n",
       " ('jabwar', 420),\n",
       " ('houfin', 1755),\n",
       " ('skylar', 2743)]"
      ]
     },
     "execution_count": 10,
     "metadata": {},
     "output_type": "execute_result"
    }
   ],
   "source": [
    "counter = Counter([p.parent.name for p in paths])\n",
    "sorted(counter.items(), key=lambda x: x[1])"
   ]
  }
 ],
 "metadata": {
  "interpreter": {
   "hash": "41049156054574101fa2f03899789afedde2f669574f38e007c535191dd9fbab"
  },
  "kernelspec": {
   "display_name": "Python 3.8.9 64-bit ('venv': venv)",
   "language": "python",
   "name": "python3"
  },
  "language_info": {
   "codemirror_mode": {
    "name": "ipython",
    "version": 3
   },
   "file_extension": ".py",
   "mimetype": "text/x-python",
   "name": "python",
   "nbconvert_exporter": "python",
   "pygments_lexer": "ipython3",
   "version": "3.8.9"
  },
  "orig_nbformat": 4
 },
 "nbformat": 4,
 "nbformat_minor": 2
}
